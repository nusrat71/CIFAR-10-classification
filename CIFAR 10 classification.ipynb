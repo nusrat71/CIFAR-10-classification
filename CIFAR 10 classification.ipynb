{
 "cells": [
  {
   "cell_type": "code",
   "execution_count": 1,
   "id": "740cbae4",
   "metadata": {
    "colab": {
     "base_uri": "https://localhost:8080/"
    },
    "id": "740cbae4",
    "outputId": "37d876e7-ac5d-4945-b7ea-830cd67120c8"
   },
   "outputs": [
    {
     "output_type": "stream",
     "name": "stdout",
     "text": [
      "Mounted at /content/drive\n"
     ]
    }
   ],
   "source": [
    "# import necessary libraries\n",
    "import numpy as np\n",
    "import matplotlib.pyplot as plt\n",
    "import torch\n",
    "from tqdm.auto import tqdm\n",
    "import math\n",
    "import torchvision\n",
    "import torch.nn as nn\n",
    "import torch.nn.functional as F\n",
    "import torchvision.transforms as transforms\n",
    "import torchvision.models as models\n",
    "from torch.utils.data import DataLoader\n",
    "from torch import optim\n",
    "torch.manual_seed(55)\n",
    "import pickle\n",
    "from sklearn.linear_model import LogisticRegression\n",
    "from google.colab import drive\n",
    "drive.mount('/content/drive')"
   ]
  },
  {
   "cell_type": "code",
   "source": [
    "training_batch = np.empty((4),dtype=object)\n",
    "val_batch = np.empty((1),dtype=object)\n",
    "test_batch = np.empty((1),dtype=object)"
   ],
   "metadata": {
    "id": "r3IOjiq5PVcK"
   },
   "id": "r3IOjiq5PVcK",
   "execution_count": 2,
   "outputs": []
  },
  {
   "cell_type": "code",
   "source": [
    "#Taking directories of cifar 10 data\n",
    "dir1= '/content/drive/My Drive/cifar-10-batches-py/batches.meta' \n",
    "dir2='/content/drive/My Drive/cifar-10-batches-py/data_batch_1' \n",
    "dir3='/content/drive/My Drive/cifar-10-batches-py/data_batch_2'  \n",
    "dir4='/content/drive/My Drive/cifar-10-batches-py/data_batch_3'\n",
    "dir5='/content/drive/My Drive/cifar-10-batches-py/data_batch_4'\n",
    "dir6='/content/drive/My Drive/cifar-10-batches-py/data_batch_5' \n",
    "dir7='/content/drive/My Drive/cifar-10-batches-py/test_batch'\n",
    "path = \"/content/drive/My Drive/cifar-10-batches-py\""
   ],
   "metadata": {
    "id": "5dmy66FaPwZC"
   },
   "id": "5dmy66FaPwZC",
   "execution_count": 3,
   "outputs": []
  },
  {
   "cell_type": "code",
   "execution_count": 4,
   "id": "d19b00f2",
   "metadata": {
    "id": "d19b00f2"
   },
   "outputs": [],
   "source": [
    "with open(dir2, \"rb\") as fo:\n",
    "        training_batch[0] = pickle.load(fo,encoding=\"bytes\")  #pickle.load() reads the pickled byte stream of one or more python objects from a file object\n",
    "with open(dir3, \"rb\") as fo:\n",
    "        training_batch[1] = pickle.load(fo,encoding=\"bytes\")\n",
    "with open(dir4, \"rb\") as fo:\n",
    "        training_batch[2] = pickle.load(fo,encoding=\"bytes\")\n",
    "with open(dir5, \"rb\") as fo:\n",
    "        training_batch[3] = pickle.load(fo,encoding=\"bytes\")\n",
    "with open(dir6, \"rb\") as fo:\n",
    "       val_batch[0] = pickle.load(fo,encoding=\"bytes\")\n",
    "with open(dir7, \"rb\") as fo:\n",
    "       test_batch[0] = pickle.load(fo,encoding=\"bytes\")\n",
    "with open(dir1, \"rb\") as fo:\n",
    "       meta_data = pickle.load(fo,encoding=\"bytes\")\n"
   ]
  },
  {
   "cell_type": "code",
   "execution_count": 5,
   "id": "b76a22c8",
   "metadata": {
    "colab": {
     "base_uri": "https://localhost:8080/"
    },
    "id": "b76a22c8",
    "outputId": "2771aa02-3a7e-4e52-db86-ddb8a35a987b"
   },
   "outputs": [
    {
     "output_type": "execute_result",
     "data": {
      "text/plain": [
       "[b'airplane',\n",
       " b'automobile',\n",
       " b'bird',\n",
       " b'cat',\n",
       " b'deer',\n",
       " b'dog',\n",
       " b'frog',\n",
       " b'horse',\n",
       " b'ship',\n",
       " b'truck']"
      ]
     },
     "metadata": {},
     "execution_count": 5
    }
   ],
   "source": [
    "#Checking meta data label names\n",
    "meta_data[b'label_names']"
   ]
  },
  {
   "cell_type": "code",
   "source": [
    "training_batch[0][b'data'].shape   #Checking training batch shape"
   ],
   "metadata": {
    "colab": {
     "base_uri": "https://localhost:8080/"
    },
    "id": "XsxUf1JJlmdg",
    "outputId": "00f8ae46-657c-46a5-c30b-4c8c3cedadcf"
   },
   "id": "XsxUf1JJlmdg",
   "execution_count": 6,
   "outputs": [
    {
     "output_type": "execute_result",
     "data": {
      "text/plain": [
       "(10000, 3072)"
      ]
     },
     "metadata": {},
     "execution_count": 6
    }
   ]
  },
  {
   "cell_type": "code",
   "execution_count": 7,
   "id": "f308a319",
   "metadata": {
    "id": "f308a319"
   },
   "outputs": [],
   "source": [
    "#Defining Custom Data loader\n",
    "class CustomDataset(torch.utils.data.Dataset):\n",
    "    def __init__(self,batch,b_type,transform):\n",
    "        self.transform = transform\n",
    "        if b_type == \"train\":\n",
    "            self.data = np.concatenate((batch[0][b'data'],batch[1][b'data'],\n",
    "                                        batch[2][b'data'],batch[3][b'data']),axis=0) #If it is train data concetenating first four batches\n",
    "            self.label = np.concatenate((batch[0][b'labels'],batch[1][b'labels'],\n",
    "                                        batch[2][b'labels'],batch[3][b'labels']))\n",
    "        #If it is not train data then take one batch   \n",
    "        else:\n",
    "            self.data = batch[0][b'data']  \n",
    "            self.label = batch[0][b'labels']\n",
    "           \n",
    "    def __len__(self):\n",
    "        return len(self.label)\n",
    "    \n",
    "    def __getitem__(self,index):\n",
    "        label = self.label[index]\n",
    "        image_data = self.data[index]\n",
    "        # Converting (3072,) array to (3,32,32)\n",
    "        image_r = image_data[:1024].reshape(32,32)\n",
    "        image_g = image_data[1024:2048].reshape(32,32)\n",
    "        image_b = image_data[2048:].reshape(32,32)\n",
    "        image = np.array([image_r,image_g,image_b])\n",
    "         # Changing the batch dimension to the last dimension\n",
    "        image = np.transpose(image,(1,2,0))\n",
    "        if self.transform is not None:\n",
    "            image = self.transform(image)\n",
    "        return image, label\n",
    "    "
   ]
  },
  {
   "cell_type": "code",
   "execution_count": 8,
   "id": "e935b4eb",
   "metadata": {
    "id": "e935b4eb"
   },
   "outputs": [],
   "source": [
    "#Doing  Data augmentation\n",
    "data_transformers = {\"train\": transforms.Compose([transforms.ToPILImage(),\n",
    "                                     transforms.RandomResizedCrop(224),\n",
    "                                     transforms.ToTensor()]),\n",
    "            \"test\":transforms.Compose([transforms.ToPILImage(),\n",
    "                                       transforms.Resize(224),\n",
    "                                       transforms.ToTensor()])}\n",
    "# Defining training, test and validation dataset by calling CustomDataset \n",
    "train_data = CustomDataset(training_batch,\"train\",transform=data_transformers[\"test\"])\n",
    "val_data = CustomDataset(val_batch,\"validation\",transform=data_transformers[\"test\"])\n",
    "test_data = CustomDataset(test_batch,\"test\",transform=data_transformers[\"test\"])\n",
    "#Data Loader\n",
    "train_dataloader = DataLoader(train_data,batch_size=500,shuffle=False)\n",
    "val_dataloader = DataLoader(val_data,batch_size=500,shuffle=False)\n",
    "test_dataloader = DataLoader(test_data,batch_size=500,shuffle=False)"
   ]
  },
  {
   "cell_type": "markdown",
   "id": "bef0a3d4",
   "metadata": {
    "id": "bef0a3d4"
   },
   "source": []
  },
  {
   "cell_type": "code",
   "execution_count": 11,
   "id": "d3611bff",
   "metadata": {
    "colab": {
     "base_uri": "https://localhost:8080/"
    },
    "id": "d3611bff",
    "outputId": "3735facf-85a3-4bac-e6df-3e79d45176cb"
   },
   "outputs": [
    {
     "output_type": "execute_result",
     "data": {
      "text/plain": [
       "AlexNet(\n",
       "  (features): Sequential(\n",
       "    (0): Conv2d(3, 64, kernel_size=(11, 11), stride=(4, 4), padding=(2, 2))\n",
       "    (1): ReLU(inplace=True)\n",
       "    (2): MaxPool2d(kernel_size=3, stride=2, padding=0, dilation=1, ceil_mode=False)\n",
       "    (3): Conv2d(64, 192, kernel_size=(5, 5), stride=(1, 1), padding=(2, 2))\n",
       "    (4): ReLU(inplace=True)\n",
       "    (5): MaxPool2d(kernel_size=3, stride=2, padding=0, dilation=1, ceil_mode=False)\n",
       "    (6): Conv2d(192, 384, kernel_size=(3, 3), stride=(1, 1), padding=(1, 1))\n",
       "    (7): ReLU(inplace=True)\n",
       "    (8): Conv2d(384, 256, kernel_size=(3, 3), stride=(1, 1), padding=(1, 1))\n",
       "    (9): ReLU(inplace=True)\n",
       "    (10): Conv2d(256, 256, kernel_size=(3, 3), stride=(1, 1), padding=(1, 1))\n",
       "    (11): ReLU(inplace=True)\n",
       "    (12): MaxPool2d(kernel_size=3, stride=2, padding=0, dilation=1, ceil_mode=False)\n",
       "  )\n",
       "  (avgpool): AdaptiveAvgPool2d(output_size=(6, 6))\n",
       "  (classifier): Sequential(\n",
       "    (0): Dropout(p=0.5, inplace=False)\n",
       "    (1): Linear(in_features=9216, out_features=4096, bias=True)\n",
       "    (2): ReLU(inplace=True)\n",
       "    (3): Dropout(p=0.5, inplace=False)\n",
       "    (4): Linear(in_features=4096, out_features=4096, bias=True)\n",
       "    (5): ReLU(inplace=True)\n",
       "    (6): Linear(in_features=4096, out_features=1000, bias=True)\n",
       "  )\n",
       ")"
      ]
     },
     "metadata": {},
     "execution_count": 11
    }
   ],
   "source": [
    "#Alexnet Model\n",
    "AlexNet = models.alexnet(pretrained=False)\n",
    "AlexNet.load_state_dict(torch.load(\"/content/drive/My Drive/alexnet-owt-7be5be79.pth\"))\n",
    "AlexNet.cuda()"
   ]
  },
  {
   "cell_type": "markdown",
   "source": [
    "*** prediction and true label finding***"
   ],
   "metadata": {
    "id": "xbuEnmaqp0pv"
   },
   "id": "xbuEnmaqp0pv"
  },
  {
   "cell_type": "code",
   "source": [
    "    model=AlexNet\n",
    "    valloader=test_dataloader\n",
    "    loss_fn=\"loss\"\n",
    "    device=\"cuda\"\n",
    "    \n",
    "    model.eval()\n",
    "    predictions_count = np.zeros(1000)\n",
    "    predictionss = []\n",
    "    true_labels = []\n",
    "    true_labels_count = np.zeros(10)\n",
    "    with torch.no_grad():\n",
    "        for batch, (images,labels) in enumerate(valloader):\n",
    "            images, labels = images.to(device), labels.to(device)\n",
    "            images = images.float() # weights are float , so convering images to float\n",
    "            labels = labels.type(torch.long)\n",
    "            outputs = model(images)\n",
    "            _, predictions = torch.max(outputs.data,1)\n",
    "            for i in predictions:\n",
    "                predictions_count[i] += 1\n",
    "            for i in labels:\n",
    "                true_labels_count[i] += 1\n",
    "            predictionss.extend(predictions.to(\"cpu\"))\n",
    "            true_labels.extend(labels.to(\"cpu\"))"
   ],
   "metadata": {
    "id": "KN9lK9vYkULe"
   },
   "id": "KN9lK9vYkULe",
   "execution_count": 12,
   "outputs": []
  },
  {
   "cell_type": "code",
   "execution_count": 13,
   "id": "5cc6f250",
   "metadata": {
    "id": "5cc6f250",
    "colab": {
     "base_uri": "https://localhost:8080/"
    },
    "outputId": "267014c1-1964-4590-f90e-89a3f0a73499"
   },
   "outputs": [
    {
     "output_type": "stream",
     "name": "stdout",
     "text": [
      "[901 680  80 351 190 556 111 653 813 712]\n",
      "[3023. 2226.  695.  501.  410.  343.  299.  297.  173.  172.]\n"
     ]
    }
   ],
   "source": [
    "# calculate top predictions\n",
    "top_predictionss =  predictions_count.argsort()[-10:][::-1]\n",
    "CountTop_predictions = predictions_count[top_predictionss]\n",
    "print(top_predictionss)\n",
    "print(CountTop_predictions)"
   ]
  },
  {
   "cell_type": "code",
   "execution_count": 14,
   "id": "fb7686a8",
   "metadata": {
    "id": "fb7686a8"
   },
   "outputs": [],
   "source": [
    "# Read from imagenet classes text file\n",
    "with open('/content/drive/My Drive/imagenet_classes.txt') as f:\n",
    "    imgnet_labels = [line.strip() for line in f.readlines()]"
   ]
  },
  {
   "cell_type": "code",
   "execution_count": 15,
   "id": "1f342621",
   "metadata": {
    "id": "1f342621",
    "colab": {
     "base_uri": "https://localhost:8080/"
    },
    "outputId": "4d396d1a-d682-4238-b836-664e926756b8"
   },
   "outputs": [
    {
     "output_type": "execute_result",
     "data": {
      "text/plain": [
       "['901, whiskey_jug',\n",
       " '680, nipple',\n",
       " '80, black_grouse',\n",
       " '351, hartebeest',\n",
       " '190, Sealyham_terrier',\n",
       " '556, fire_screen',\n",
       " '111, nematode',\n",
       " '653, milk_can',\n",
       " '813, spatula',\n",
       " '712, Petri_dish']"
      ]
     },
     "metadata": {},
     "execution_count": 15
    }
   ],
   "source": [
    "top_classes = []\n",
    "for i in top_predictionss:\n",
    "    top_classes.append(imgnet_labels[i])\n",
    "\n",
    "top_classes"
   ]
  },
  {
   "cell_type": "code",
   "execution_count": 16,
   "id": "bd6c2a17",
   "metadata": {
    "id": "bd6c2a17"
   },
   "outputs": [],
   "source": [
    "predictions_np = np.array(predictionss)\n",
    "truelabel_np = np.array(true_labels)"
   ]
  },
  {
   "cell_type": "markdown",
   "id": "27cc831e",
   "metadata": {
    "id": "27cc831e"
   },
   "source": [
    "# Constructing a *Confusion Matrix* that relates the CIFAR10 classes with the 10 most frequent classes from ImageNet predicted by the model"
   ]
  },
  {
   "cell_type": "code",
   "execution_count": 17,
   "id": "32502872",
   "metadata": {
    "id": "32502872"
   },
   "outputs": [],
   "source": [
    "\n",
    "from sklearn.metrics import confusion_matrix\n",
    "import seaborn as sn\n",
    "import pandas as pd\n",
    "\n",
    "predict_class = [imgnet_labels[i] for i in predictions_np]  \n",
    "\n",
    "indices = [] \n",
    "\n",
    "for idx,each in enumerate(predict_class):\n",
    "    if each in top_classes:\n",
    "        indices.append(idx)\n",
    "\n",
    "\n",
    "predict_class = [top_classes.index(predict_class[i]) for i in indices] \n",
    "\n",
    "true_class = [truelabel_np[i] for i in indices] \n",
    "\n",
    "Matrix= confusion_matrix(true_class, predict_class)\n",
    "# Retrieving top predicted classes names\n",
    "top_classes[0].split()[1]\n",
    "top_classes_names = [top_classes[i].split()[1] for i in np.arange(len(top_classes))]"
   ]
  },
  {
   "cell_type": "code",
   "execution_count": 19,
   "id": "40665684",
   "metadata": {
    "id": "40665684",
    "colab": {
     "base_uri": "https://localhost:8080/",
     "height": 664
    },
    "outputId": "c60bb962-ac36-4ae0-f24e-0207ad95b0d5"
   },
   "outputs": [
    {
     "output_type": "display_data",
     "data": {
      "text/plain": [
       "<Figure size 1080x720 with 2 Axes>"
      ],
      "image/png": "[encoded data removed]"
     },
     "metadata": {
      "needs_background": "light"
     }
    }
   ],
   "source": [
    "fig = plt.figure(figsize=(15,10))\n",
    "ax= plt.subplot()\n",
    "sn.heatmap(Matrix,cmap=\"gray\",annot=True, ax = ax, fmt = 'g');\n",
    "\n",
    "ax.set_xlabel('Predicted')\n",
    "plt.xticks(rotation=45)\n",
    "ax.xaxis.set_ticklabels(top_classes_names)\n",
    "ax.xaxis.tick_bottom()\n",
    "ax.set_ylabel('True')\n",
    "cifar_classes = ('Airplane', 'Car', 'Bird', 'Cat', 'Deer', 'Dog', 'Frog', 'Horse', 'Ship', 'Truck')\n",
    "ax.yaxis.set_ticklabels(cifar_classes)\n",
    "\n",
    "plt.savefig('cm.png')\n",
    "plt.show()\n"
   ]
  },
  {
   "cell_type": "markdown",
   "id": "5d7076cb",
   "metadata": {
    "id": "5d7076cb"
   },
   "source": [
    "\n",
    "\n"
   ]
  },
  {
   "cell_type": "markdown",
   "source": [
    "**Training a logistic regression by using output from fc6 - **"
   ],
   "metadata": {
    "id": "zJltQmySs_0X"
   },
   "id": "zJltQmySs_0X"
  },
  {
   "cell_type": "code",
   "execution_count": 20,
   "id": "967299b9",
   "metadata": {
    "scrolled": true,
    "id": "967299b9",
    "colab": {
     "base_uri": "https://localhost:8080/"
    },
    "outputId": "5e1972d2-3a5f-43f8-a414-cb5e591b8b51"
   },
   "outputs": [
    {
     "output_type": "execute_result",
     "data": {
      "text/plain": [
       "AlexNet(\n",
       "  (features): Sequential(\n",
       "    (0): Conv2d(3, 64, kernel_size=(11, 11), stride=(4, 4), padding=(2, 2))\n",
       "    (1): ReLU(inplace=True)\n",
       "    (2): MaxPool2d(kernel_size=3, stride=2, padding=0, dilation=1, ceil_mode=False)\n",
       "    (3): Conv2d(64, 192, kernel_size=(5, 5), stride=(1, 1), padding=(2, 2))\n",
       "    (4): ReLU(inplace=True)\n",
       "    (5): MaxPool2d(kernel_size=3, stride=2, padding=0, dilation=1, ceil_mode=False)\n",
       "    (6): Conv2d(192, 384, kernel_size=(3, 3), stride=(1, 1), padding=(1, 1))\n",
       "    (7): ReLU(inplace=True)\n",
       "    (8): Conv2d(384, 256, kernel_size=(3, 3), stride=(1, 1), padding=(1, 1))\n",
       "    (9): ReLU(inplace=True)\n",
       "    (10): Conv2d(256, 256, kernel_size=(3, 3), stride=(1, 1), padding=(1, 1))\n",
       "    (11): ReLU(inplace=True)\n",
       "    (12): MaxPool2d(kernel_size=3, stride=2, padding=0, dilation=1, ceil_mode=False)\n",
       "  )\n",
       "  (avgpool): AdaptiveAvgPool2d(output_size=(6, 6))\n",
       "  (classifier): Sequential(\n",
       "    (0): Dropout(p=0.5, inplace=False)\n",
       "    (1): Linear(in_features=9216, out_features=4096, bias=True)\n",
       "    (2): ReLU(inplace=True)\n",
       "    (3): Dropout(p=0.5, inplace=False)\n",
       "    (4): Linear(in_features=4096, out_features=4096, bias=True)\n",
       "    (5): ReLU(inplace=True)\n",
       "    (6): Linear(in_features=4096, out_features=1000, bias=True)\n",
       "  )\n",
       ")"
      ]
     },
     "metadata": {},
     "execution_count": 20
    }
   ],
   "source": [
    "AlexNet_1 = models.alexnet(pretrained=False)\n",
    "AlexNet_1.load_state_dict(torch.load(\"/content/drive/My Drive/alexnet-owt-7be5be79.pth\"))\n",
    "AlexNet_1.cuda()"
   ]
  },
  {
   "cell_type": "code",
   "execution_count": 21,
   "id": "93941e03",
   "metadata": {
    "id": "93941e03",
    "colab": {
     "base_uri": "https://localhost:8080/"
    },
    "outputId": "1993ea95-91f5-4af4-c64d-0c312a71004b"
   },
   "outputs": [
    {
     "output_type": "stream",
     "name": "stdout",
     "text": [
      "AlexNet(\n",
      "  (features): Sequential(\n",
      "    (0): Conv2d(3, 64, kernel_size=(11, 11), stride=(4, 4), padding=(2, 2))\n",
      "    (1): ReLU(inplace=True)\n",
      "    (2): MaxPool2d(kernel_size=3, stride=2, padding=0, dilation=1, ceil_mode=False)\n",
      "    (3): Conv2d(64, 192, kernel_size=(5, 5), stride=(1, 1), padding=(2, 2))\n",
      "    (4): ReLU(inplace=True)\n",
      "    (5): MaxPool2d(kernel_size=3, stride=2, padding=0, dilation=1, ceil_mode=False)\n",
      "    (6): Conv2d(192, 384, kernel_size=(3, 3), stride=(1, 1), padding=(1, 1))\n",
      "    (7): ReLU(inplace=True)\n",
      "    (8): Conv2d(384, 256, kernel_size=(3, 3), stride=(1, 1), padding=(1, 1))\n",
      "    (9): ReLU(inplace=True)\n",
      "    (10): Conv2d(256, 256, kernel_size=(3, 3), stride=(1, 1), padding=(1, 1))\n",
      "    (11): ReLU(inplace=True)\n",
      "    (12): MaxPool2d(kernel_size=3, stride=2, padding=0, dilation=1, ceil_mode=False)\n",
      "  )\n",
      "  (avgpool): AdaptiveAvgPool2d(output_size=(6, 6))\n",
      "  (classifier): Sequential(\n",
      "    (0): Dropout(p=0.5, inplace=False)\n",
      "    (1): Linear(in_features=9216, out_features=4096, bias=True)\n",
      "  )\n",
      ")\n"
     ]
    }
   ],
   "source": [
    "AlexNet_1.classifier = nn.Sequential(\n",
    "    nn.Dropout(0.5,False),\n",
    "    nn.Linear(9216,4096,True)\n",
    ")\n",
    "print(AlexNet_1)"
   ]
  },
  {
   "cell_type": "markdown",
   "source": [
    "#Getting output for training batches"
   ],
   "metadata": {
    "id": "Cr0AajNErf5a"
   },
   "id": "Cr0AajNErf5a"
  },
  {
   "cell_type": "code",
   "source": [
    "    AlexNet_1.cuda()\n",
    "    model=AlexNet_1\n",
    "    valloader=train_dataloader\n",
    "    device=\"cuda\"\n",
    "    progress_bar = tqdm(range(len(valloader)))\n",
    "    model.eval()\n",
    "    #  labels_list for keeping track of the labels\n",
    "    labels_list = [] \n",
    "    # outputs_list for keeping the output of features of lienar layer fc6\n",
    "    outputs_list = [] \n",
    "    with torch.no_grad():\n",
    "        for batch, (images,labels) in enumerate(valloader):\n",
    "            images, labels = images.to(device), labels.to(device)\n",
    "            images = images.float()\n",
    "            labels = labels.type(torch.long)\n",
    "            outputs = model(images)\n",
    "            outputs = outputs.cpu().detach().numpy()\n",
    "            labels_list.extend(labels.to(\"cpu\"))\n",
    "            outputs_list.extend(outputs)\n",
    "            progress_bar.update(1)\n",
    "\n",
    "    labels_list = np.array(labels_list)\n",
    "    outputs_list = np.array(outputs_list)\n",
    "    train_outputs=outputs_list\n",
    "    train_labels=labels_list\n",
    " \n"
   ],
   "metadata": {
    "id": "RsvwytLupb9A",
    "colab": {
     "base_uri": "https://localhost:8080/",
     "height": 49,
     "referenced_widgets": [
      "087019304e754761adb297a24e348a56",
      "ffd2f4df849a4571929528cc574081f0",
      "6ed30a2d9b234ef2b21380740c7301bd",
      "17d15214d5b24883a070b18789eac9a6",
      "86393415fd6b4ed8813919d5c137d044",
      "8e1d1c1ff44f405a829c2cc315ef8c9d",
      "eb7555497d2f4dd08e0a2ca5e2cbf648",
      "cfc76d436521462bb0e19852f798a50f",
      "a073a9ac41f44478ab3e9e299e00982c",
      "bc673466b52943fe8b35047b6e9f988f",
      "07cd70747b3c4ac18e3faa75f6099b9e"
     ]
    },
    "outputId": "3694f6da-e911-46fa-8b02-72c11d14605f"
   },
   "id": "RsvwytLupb9A",
   "execution_count": 22,
   "outputs": [
    {
     "output_type": "display_data",
     "data": {
      "text/plain": [
       "  0%|          | 0/80 [00:00<?, ?it/s]"
      ],
      "application/vnd.jupyter.widget-view+json": {
       "version_major": 2,
       "version_minor": 0,
       "model_id": "087019304e754761adb297a24e348a56"
      }
     },
     "metadata": {}
    }
   ]
  },
  {
   "cell_type": "code",
   "execution_count": 23,
   "id": "c5d31683",
   "metadata": {
    "id": "c5d31683",
    "colab": {
     "base_uri": "https://localhost:8080/"
    },
    "outputId": "223fb9aa-58fd-4b66-e1a2-3b86fd1cacb8"
   },
   "outputs": [
    {
     "output_type": "stream",
     "name": "stdout",
     "text": [
      "6\n",
      "[-0.50466204  0.01312917 -0.17883444 ...  0.21389395  0.06622521\n",
      " -0.18691981]\n"
     ]
    }
   ],
   "source": [
    "print(train_labels[0])\n",
    "print(train_outputs[0])"
   ]
  },
  {
   "cell_type": "markdown",
   "source": [
    "#Getting output for validation batches - Using the same function as train batch"
   ],
   "metadata": {
    "id": "DsmQHAK1s2tE"
   },
   "id": "DsmQHAK1s2tE"
  },
  {
   "cell_type": "code",
   "execution_count": 24,
   "id": "9a3f7de6",
   "metadata": {
    "id": "9a3f7de6",
    "colab": {
     "base_uri": "https://localhost:8080/",
     "height": 49,
     "referenced_widgets": [
      "d7f479bcd51849649a6fae9ac257f90e",
      "99dea373e6e84153aed1e7f595a9a0f1",
      "5d6cbd68303f4ce791dfc5ec83469380",
      "92fe649d6f594dbebe945ff23a29a567",
      "91dd17f930214bc889f90068de212614",
      "72fe1b865f234668b4992b5018c43cd6",
      "0b5f16c491864c1394e8074c531c0523",
      "4df9128595224840a8739e5b9958c442",
      "89b172305dc34615b92c4b4ad6899692",
      "7caf106461a642d2b37756fce26f637e",
      "6185ef12323443b6b7c4f056333100ac"
     ]
    },
    "outputId": "23b3feaa-fe98-40a8-f0b6-1c9d5f58cb90"
   },
   "outputs": [
    {
     "output_type": "display_data",
     "data": {
      "text/plain": [
       "  0%|          | 0/20 [00:00<?, ?it/s]"
      ],
      "application/vnd.jupyter.widget-view+json": {
       "version_major": 2,
       "version_minor": 0,
       "model_id": "d7f479bcd51849649a6fae9ac257f90e"
      }
     },
     "metadata": {}
    }
   ],
   "source": [
    "    AlexNet_1.cuda()\n",
    "    model=AlexNet_1\n",
    "    valloader=val_dataloader\n",
    "    device=\"cuda\"\n",
    "    progress_bar = tqdm(range(len(valloader)))\n",
    "    model.eval()\n",
    "    \n",
    "    labels_list = [] \n",
    "    outputs_list = [] \n",
    "    with torch.no_grad():\n",
    "        for batch, (images,labels) in enumerate(valloader):\n",
    "            images, labels = images.to(device), labels.to(device)\n",
    "            images = images.float()\n",
    "            labels = labels.type(torch.long)\n",
    "            outputs = model(images)\n",
    "            outputs = outputs.cpu().detach().numpy()\n",
    "            labels_list.extend(labels.to(\"cpu\"))\n",
    "            outputs_list.extend(outputs)\n",
    "            progress_bar.update(1)\n",
    "\n",
    "    labels_list = np.array(labels_list)\n",
    "    outputs_list = np.array(outputs_list)\n",
    "    val_outputs=outputs_list\n",
    "    val_labels=labels_list "
   ]
  },
  {
   "cell_type": "markdown",
   "source": [
    "#Getting output for test batches - Using the same function as train batch"
   ],
   "metadata": {
    "id": "LKeheVxNtQhP"
   },
   "id": "LKeheVxNtQhP"
  },
  {
   "cell_type": "code",
   "execution_count": 25,
   "id": "71914872",
   "metadata": {
    "id": "71914872",
    "colab": {
     "base_uri": "https://localhost:8080/",
     "height": 49,
     "referenced_widgets": [
      "afb0ebe8bc9e4d60b28dabf0cd00838e",
      "41208eef3b184aa394ec15ac277bad47",
      "46223792dfaf4a67aacc1d009d2ae541",
      "d6055c9c5322484c902d544250afa87d",
      "bb4a51328efd4902b83552d2524407a0",
      "bc02f39b956f4346895c4c4bf15ded53",
      "057455a8ce6d4d3f833cc05bbe169f33",
      "c4b39603d6ff447384e4081d2906a96c",
      "230b0ec9fd3943e6a1667703d246492e",
      "48b1e6317d564a5ca0eae35574fdedc8",
      "bb67c9c1e9c84aee8432981c2fe98563"
     ]
    },
    "outputId": "481f9f0d-859c-48be-e903-379f4013d8ef"
   },
   "outputs": [
    {
     "output_type": "display_data",
     "data": {
      "text/plain": [
       "  0%|          | 0/20 [00:00<?, ?it/s]"
      ],
      "application/vnd.jupyter.widget-view+json": {
       "version_major": 2,
       "version_minor": 0,
       "model_id": "afb0ebe8bc9e4d60b28dabf0cd00838e"
      }
     },
     "metadata": {}
    }
   ],
   "source": [
    "    AlexNet_1.cuda()\n",
    "    model=AlexNet_1\n",
    "    valloader=test_dataloader\n",
    "    device=\"cuda\"\n",
    "    progress_bar = tqdm(range(len(valloader)))\n",
    "    model.eval()\n",
    "    \n",
    "    labels_list = [] \n",
    "    outputs_list = []\n",
    "    with torch.no_grad():\n",
    "        for batch, (images,labels) in enumerate(valloader):\n",
    "            images, labels = images.to(device), labels.to(device)\n",
    "            images = images.float()\n",
    "            labels = labels.type(torch.long) \n",
    "            outputs = model(images)\n",
    "            outputs = outputs.cpu().detach().numpy()\n",
    "            labels_list.extend(labels.to(\"cpu\"))\n",
    "            outputs_list.extend(outputs)\n",
    "            progress_bar.update(1)\n",
    "\n",
    "    labels_list = np.array(labels_list)\n",
    "    outputs_list = np.array(outputs_list)\n",
    "    test_outputs=outputs_list\n",
    "    test_labels=labels_list \n"
   ]
  },
  {
   "cell_type": "markdown",
   "id": "ef6e634a",
   "metadata": {
    "id": "ef6e634a"
   },
   "source": [
    "**logistic regression**"
   ]
  },
  {
   "cell_type": "code",
   "execution_count": 26,
   "id": "99111545",
   "metadata": {
    "id": "99111545"
   },
   "outputs": [],
   "source": [
    "logisticRegresson = LogisticRegression(penalty=\"l2\",verbose = 2, fit_intercept=True,\n",
    "                                    multi_class=\"multinomial\",n_jobs=6,random_state=1)\n"
   ]
  },
  {
   "cell_type": "code",
   "execution_count": 27,
   "id": "1d38ee69",
   "metadata": {
    "id": "1d38ee69",
    "colab": {
     "base_uri": "https://localhost:8080/"
    },
    "outputId": "299c4119-4cf2-41a9-945a-6fab992205e6"
   },
   "outputs": [
    {
     "output_type": "stream",
     "name": "stderr",
     "text": [
      "[Parallel(n_jobs=6)]: Using backend LokyBackend with 6 concurrent workers.\n",
      "[Parallel(n_jobs=6)]: Done   1 out of   1 | elapsed:  2.6min finished\n"
     ]
    },
    {
     "output_type": "execute_result",
     "data": {
      "text/plain": [
       "LogisticRegression(multi_class='multinomial', n_jobs=6, random_state=1,\n",
       "                   verbose=2)"
      ]
     },
     "metadata": {},
     "execution_count": 27
    }
   ],
   "source": [
    "logisticRegresson.fit(train_outputs,train_labels) # fit the model"
   ]
  },
  {
   "cell_type": "markdown",
   "source": [
    "# Calculating training accuracy"
   ],
   "metadata": {
    "id": "B9gnYMyx7A2c"
   },
   "id": "B9gnYMyx7A2c"
  },
  {
   "cell_type": "code",
   "source": [
    "train_accuracy = logisticRegresson.score(train_outputs,train_labels) \n",
    "print(\"Training Accuracy: \",train_accuracy*100,\"%\")"
   ],
   "metadata": {
    "id": "mwHoDdZZ6-mu",
    "colab": {
     "base_uri": "https://localhost:8080/"
    },
    "outputId": "3c414730-1416-4928-bff6-c8749dfe6158"
   },
   "id": "mwHoDdZZ6-mu",
   "execution_count": 28,
   "outputs": [
    {
     "output_type": "stream",
     "name": "stdout",
     "text": [
      "Training Accuracy:  83.3775 %\n"
     ]
    }
   ]
  },
  {
   "cell_type": "markdown",
   "source": [
    "# Calculating validation accuracy"
   ],
   "metadata": {
    "id": "oo_ePBFh7Dg_"
   },
   "id": "oo_ePBFh7Dg_"
  },
  {
   "cell_type": "code",
   "source": [
    "val_accuracy = logisticRegresson.score(val_outputs,val_labels) \n",
    "print(\"Validaction Accuracy: \", val_accuracy*100,\"%\")\n"
   ],
   "metadata": {
    "id": "kKtMS_yo7HK3",
    "colab": {
     "base_uri": "https://localhost:8080/"
    },
    "outputId": "904ba598-beb3-4168-8c26-f234c9ff286c"
   },
   "id": "kKtMS_yo7HK3",
   "execution_count": 29,
   "outputs": [
    {
     "output_type": "stream",
     "name": "stdout",
     "text": [
      "Validaction Accuracy:  77.14999999999999 %\n"
     ]
    }
   ]
  },
  {
   "cell_type": "markdown",
   "source": [
    " # Calculating test accuracy"
   ],
   "metadata": {
    "id": "n61PF2Gi7N8r"
   },
   "id": "n61PF2Gi7N8r"
  },
  {
   "cell_type": "code",
   "execution_count": 30,
   "id": "ac0f88e4",
   "metadata": {
    "id": "ac0f88e4",
    "colab": {
     "base_uri": "https://localhost:8080/"
    },
    "outputId": "dbf76386-e898-4f68-e3e8-a1c2f0d5c61d"
   },
   "outputs": [
    {
     "output_type": "stream",
     "name": "stdout",
     "text": [
      "Test Accuracy:  76.55999999999999 %\n"
     ]
    }
   ],
   "source": [
    "test_accuracy = logisticRegresson.score(test_outputs,test_labels)\n",
    "print(\"Test Accuracy: \", test_accuracy*100,\"%\")\n"
   ]
  },
  {
   "cell_type": "markdown",
   "id": "7df64b53",
   "metadata": {
    "id": "7df64b53"
   },
   "source": []
  },
  {
   "cell_type": "markdown",
   "source": [
    "**Training a logistic regression by using output from fc7  **"
   ],
   "metadata": {
    "id": "uDgkB5mi6dwk"
   },
   "id": "uDgkB5mi6dwk"
  },
  {
   "cell_type": "code",
   "execution_count": 41,
   "id": "b86458c4",
   "metadata": {
    "id": "b86458c4",
    "colab": {
     "base_uri": "https://localhost:8080/"
    },
    "outputId": "47c525af-fbca-4445-a715-873d02356d99"
   },
   "outputs": [
    {
     "output_type": "stream",
     "name": "stdout",
     "text": [
      "AlexNet(\n",
      "  (features): Sequential(\n",
      "    (0): Conv2d(3, 64, kernel_size=(11, 11), stride=(4, 4), padding=(2, 2))\n",
      "    (1): ReLU(inplace=True)\n",
      "    (2): MaxPool2d(kernel_size=3, stride=2, padding=0, dilation=1, ceil_mode=False)\n",
      "    (3): Conv2d(64, 192, kernel_size=(5, 5), stride=(1, 1), padding=(2, 2))\n",
      "    (4): ReLU(inplace=True)\n",
      "    (5): MaxPool2d(kernel_size=3, stride=2, padding=0, dilation=1, ceil_mode=False)\n",
      "    (6): Conv2d(192, 384, kernel_size=(3, 3), stride=(1, 1), padding=(1, 1))\n",
      "    (7): ReLU(inplace=True)\n",
      "    (8): Conv2d(384, 256, kernel_size=(3, 3), stride=(1, 1), padding=(1, 1))\n",
      "    (9): ReLU(inplace=True)\n",
      "    (10): Conv2d(256, 256, kernel_size=(3, 3), stride=(1, 1), padding=(1, 1))\n",
      "    (11): ReLU(inplace=True)\n",
      "    (12): MaxPool2d(kernel_size=3, stride=2, padding=0, dilation=1, ceil_mode=False)\n",
      "  )\n",
      "  (avgpool): AdaptiveAvgPool2d(output_size=(6, 6))\n",
      "  (classifier): Sequential(\n",
      "    (0): Dropout(p=0.5, inplace=False)\n",
      "    (1): Linear(in_features=9216, out_features=4096, bias=True)\n",
      "    (2): ReLU(inplace=True)\n",
      "    (3): Dropout(p=0.5, inplace=False)\n",
      "    (4): Linear(in_features=4096, out_features=4096, bias=True)\n",
      "  )\n",
      ")\n"
     ]
    }
   ],
   "source": [
    "AlexNet2 = models.alexnet(pretrained=False)\n",
    "AlexNet2.load_state_dict(torch.load(\"/content/drive/My Drive/alexnet-owt-7be5be79.pth\"))\n",
    "AlexNet2.classifier = nn.Sequential(\n",
    "    nn.Dropout(0.5,False),\n",
    "    nn.Linear(9216,4096,True),\n",
    "    nn.ReLU(True),\n",
    "    nn.Dropout(0.5,False),\n",
    "    nn.Linear(4096,4096,True)   \n",
    ")\n",
    "print(AlexNet2)"
   ]
  },
  {
   "cell_type": "markdown",
   "source": [
    "#Getting output for training batch"
   ],
   "metadata": {
    "id": "LY0tHi9F1sre"
   },
   "id": "LY0tHi9F1sre"
  },
  {
   "cell_type": "code",
   "source": [
    "    AlexNet2.cuda()\n",
    "    model=AlexNet2\n",
    "    valloader=train_dataloader\n",
    "    device=\"cuda\"\n",
    "    progress_bar = tqdm(range(len(valloader)))\n",
    "    model.eval()\n",
    "   #  labels_list for keeping track of the labels\n",
    "    labels_list = []\n",
    "   # outputs_list for keeping the output of features of lienar layer fc7\n",
    "    outputs_list = []\n",
    "    with torch.no_grad():\n",
    "        for batch, (images,labels) in enumerate(valloader):\n",
    "            images, labels = images.to(device), labels.to(device)\n",
    "            images = images.float()\n",
    "            labels = labels.type(torch.long)\n",
    "            outputs = model(images)\n",
    "            outputs = outputs.cpu().detach().numpy()\n",
    "            labels_list.extend(labels.to(\"cpu\"))\n",
    "            outputs_list.extend(outputs)\n",
    "            progress_bar.update(1)\n",
    "\n",
    "    labels_list = np.array(labels_list)\n",
    "    outputs_list = np.array(outputs_list)\n",
    "    train_outputs2=outputs_list\n",
    "    train_labels2=labels_list \n"
   ],
   "metadata": {
    "id": "HV7dEbVy1aNy",
    "colab": {
     "base_uri": "https://localhost:8080/",
     "height": 49,
     "referenced_widgets": [
      "784b72fe553d4a1f9ac11ffb0a60af21",
      "15450a7f7157482a8cb5e54f97708087",
      "26b5dd3b46df4ee5bcd4d781868ca14e",
      "67455892cbe14b6289148317401ea533",
      "1edf4de17d3c460c9ddc71c3820155a9",
      "b59eaadc7aec49d8b316e7e436585a51",
      "1277e965a3764c698b906d4fceade557",
      "d525b158aa2243f797f89cbfb2fe42b2",
      "0f9905c13c2e4e6e9e1aa88e7c3c7c44",
      "742faa3a91ec42089d00d553ac2c772e",
      "0d06d364561e4832bcbaa51729bf53b1"
     ]
    },
    "outputId": "da8f2f0f-8040-4674-88bd-427d548287c4"
   },
   "id": "HV7dEbVy1aNy",
   "execution_count": 42,
   "outputs": [
    {
     "output_type": "display_data",
     "data": {
      "text/plain": [
       "  0%|          | 0/80 [00:00<?, ?it/s]"
      ],
      "application/vnd.jupyter.widget-view+json": {
       "version_major": 2,
       "version_minor": 0,
       "model_id": "784b72fe553d4a1f9ac11ffb0a60af21"
      }
     },
     "metadata": {}
    }
   ]
  },
  {
   "cell_type": "markdown",
   "source": [
    "#Getting output for validation batch - Using the same function as train batch"
   ],
   "metadata": {
    "id": "v8D53A2j8qp-"
   },
   "id": "v8D53A2j8qp-"
  },
  {
   "cell_type": "code",
   "source": [
    "    AlexNet2.cuda()\n",
    "    model=AlexNet2\n",
    "    valloader=val_dataloader\n",
    "    device=\"cuda\"\n",
    "    progress_bar = tqdm(range(len(valloader)))\n",
    "    model.eval()\n",
    "    \n",
    "    labels_list = []\n",
    "    outputs_list = []\n",
    "    with torch.no_grad():\n",
    "        for batch, (images,labels) in enumerate(valloader):\n",
    "            images, labels = images.to(device), labels.to(device)\n",
    "            images = images.float()\n",
    "            labels = labels.type(torch.long)\n",
    "            outputs = model(images)\n",
    "            outputs = outputs.cpu().detach().numpy()\n",
    "            labels_list.extend(labels.to(\"cpu\"))\n",
    "            outputs_list.extend(outputs)\n",
    "            progress_bar.update(1)\n",
    "\n",
    "    labels_list = np.array(labels_list)\n",
    "    outputs_list = np.array(outputs_list)\n",
    "    val_outputs2=outputs_list\n",
    "    val_labels2=labels_list \n"
   ],
   "metadata": {
    "id": "MCKznuKW1wj9",
    "colab": {
     "base_uri": "https://localhost:8080/",
     "height": 49,
     "referenced_widgets": [
      "48db31f269b3486082f5245b70105827",
      "4a927e8efffa401bb723d1146b1eb534",
      "a517723ad233473f8908a3941427b01a",
      "4ea34a8ec5ee49c09408de0100ad46eb",
      "311433c7c622464589b75569cf0758b7",
      "5efb7a4246a845e5a019e43686149dd6",
      "c2dc6da05c2f4fd5a7262c417cf0fd72",
      "e4873837f8a349c1802a8c31869d03dc",
      "e6e650972e114de695bde47f2e995e70",
      "b9aa1ae6e4f94bc8ad3e6870080e9235",
      "7b083596c0654cd5a98253ed396692dc"
     ]
    },
    "outputId": "65fbe44d-b268-40b7-c60b-71f153c223ce"
   },
   "id": "MCKznuKW1wj9",
   "execution_count": 43,
   "outputs": [
    {
     "output_type": "display_data",
     "data": {
      "text/plain": [
       "  0%|          | 0/20 [00:00<?, ?it/s]"
      ],
      "application/vnd.jupyter.widget-view+json": {
       "version_major": 2,
       "version_minor": 0,
       "model_id": "48db31f269b3486082f5245b70105827"
      }
     },
     "metadata": {}
    }
   ]
  },
  {
   "cell_type": "markdown",
   "source": [
    "#Getting output for test batch -Using the same function as train batch"
   ],
   "metadata": {
    "id": "KSDb1vkI9DC5"
   },
   "id": "KSDb1vkI9DC5"
  },
  {
   "cell_type": "code",
   "source": [
    "    AlexNet2.cuda()\n",
    "    model=AlexNet2\n",
    "    valloader=test_dataloader\n",
    "    device=\"cuda\"\n",
    "    progress_bar = tqdm(range(len(valloader)))\n",
    "    model.eval()\n",
    "    \n",
    "    labels_list = []\n",
    "    outputs_list = []\n",
    "    with torch.no_grad():\n",
    "        for batch, (images,labels) in enumerate(valloader):\n",
    "            images, labels = images.to(device), labels.to(device)\n",
    "            images = images.float()\n",
    "            labels = labels.type(torch.long)\n",
    "            outputs = model(images)\n",
    "            outputs = outputs.cpu().detach().numpy()\n",
    "            labels_list.extend(labels.to(\"cpu\"))\n",
    "            outputs_list.extend(outputs)\n",
    "            progress_bar.update(1)\n",
    "\n",
    "    labels_list = np.array(labels_list)\n",
    "    outputs_list = np.array(outputs_list)\n",
    "    print(\"shape of labels_list: \", labels_list.shape)\n",
    "    print(\"shape of outputs_list: \",outputs_list.shape)\n",
    "    test_outputs2=outputs_list\n",
    "    test_labels2=labels_list \n"
   ],
   "metadata": {
    "id": "ISt-8VSS18TB",
    "colab": {
     "base_uri": "https://localhost:8080/",
     "height": 85,
     "referenced_widgets": [
      "89e972bc5df545319397fafb8cfba7a0",
      "bbe4e399f06c4ae5b4115e0df5bcf921",
      "2e88786f98254e89b305a7fe269add10",
      "8320910c5ac941418428ab2b7921cb66",
      "e5f59bcc6e1442d28961e8213e556caa",
      "42d0e92b15d64b7d9f2f20e6d9d8eedd",
      "770eb7cc527440e18925b2694c5b5ad4",
      "261e9349bdb7434c8d6bca1020f99902",
      "767a80c7e82b404eb9dd169de8097cf6",
      "d3a444e027a747e4990630e88bea3626",
      "7a63c46a97c74d2d968b752c05ce98e5"
     ]
    },
    "outputId": "8c0db88d-c830-4ef2-d99b-c767e87513a3"
   },
   "id": "ISt-8VSS18TB",
   "execution_count": 44,
   "outputs": [
    {
     "output_type": "display_data",
     "data": {
      "text/plain": [
       "  0%|          | 0/20 [00:00<?, ?it/s]"
      ],
      "application/vnd.jupyter.widget-view+json": {
       "version_major": 2,
       "version_minor": 0,
       "model_id": "89e972bc5df545319397fafb8cfba7a0"
      }
     },
     "metadata": {}
    },
    {
     "output_type": "stream",
     "name": "stdout",
     "text": [
      "shape of labels_list:  (10000,)\n",
      "shape of outputs_list:  (10000, 4096)\n"
     ]
    }
   ]
  },
  {
   "cell_type": "markdown",
   "id": "c7d8f855",
   "metadata": {
    "id": "c7d8f855"
   },
   "source": [
    "**logistic regression**"
   ]
  },
  {
   "cell_type": "code",
   "execution_count": 45,
   "id": "f40a7405",
   "metadata": {
    "id": "f40a7405"
   },
   "outputs": [],
   "source": [
    "from sklearn.linear_model import LogisticRegression\n",
    "logisticRegresson2 = LogisticRegression(penalty=\"l2\",verbose = 2, fit_intercept=True,\n",
    "                                    multi_class=\"multinomial\",n_jobs=6,random_state=1)"
   ]
  },
  {
   "cell_type": "code",
   "execution_count": 46,
   "id": "c141a90e",
   "metadata": {
    "id": "c141a90e",
    "colab": {
     "base_uri": "https://localhost:8080/"
    },
    "outputId": "6cf82e5c-4d88-43ba-e76f-216ca90ca3e9"
   },
   "outputs": [
    {
     "output_type": "stream",
     "name": "stderr",
     "text": [
      "[Parallel(n_jobs=6)]: Using backend LokyBackend with 6 concurrent workers.\n",
      "[Parallel(n_jobs=6)]: Done   1 out of   1 | elapsed:  5.8min finished\n"
     ]
    },
    {
     "output_type": "execute_result",
     "data": {
      "text/plain": [
       "LogisticRegression(multi_class='multinomial', n_jobs=6, random_state=1,\n",
       "                   verbose=2)"
      ]
     },
     "metadata": {},
     "execution_count": 46
    }
   ],
   "source": [
    "logisticRegresson2.fit(train_outputs2,train_labels2) # fit the model"
   ]
  },
  {
   "cell_type": "markdown",
   "source": [
    "**Training Accuracy**"
   ],
   "metadata": {
    "id": "PwEeViYO9ix2"
   },
   "id": "PwEeViYO9ix2"
  },
  {
   "cell_type": "code",
   "source": [
    "train_accuracy2 = logisticRegresson2.score(train_outputs2,train_labels2)\n",
    "print(train_accuracy2*100,\"%\")"
   ],
   "metadata": {
    "id": "P79txotZ9jjQ",
    "colab": {
     "base_uri": "https://localhost:8080/"
    },
    "outputId": "bcdc8d82-fcfc-4d8d-99f4-6b8eaf7814a5"
   },
   "id": "P79txotZ9jjQ",
   "execution_count": 38,
   "outputs": [
    {
     "output_type": "stream",
     "name": "stdout",
     "text": [
      "80.9525 %\n"
     ]
    }
   ]
  },
  {
   "cell_type": "markdown",
   "source": [
    "**Validation Accuracy**"
   ],
   "metadata": {
    "id": "5sxPR1Kt9tcS"
   },
   "id": "5sxPR1Kt9tcS"
  },
  {
   "cell_type": "code",
   "source": [
    "val_accuracy2 = logisticRegresson2.score(val_outputs2,val_labels2)\n",
    "print(val_accuracy2*100,\"%\")"
   ],
   "metadata": {
    "id": "ev7sUdLV9rqv",
    "colab": {
     "base_uri": "https://localhost:8080/"
    },
    "outputId": "be8ddd75-20c2-4e54-b4a4-2770fd3606c5"
   },
   "id": "ev7sUdLV9rqv",
   "execution_count": 39,
   "outputs": [
    {
     "output_type": "stream",
     "name": "stdout",
     "text": [
      "75.1 %\n"
     ]
    }
   ]
  },
  {
   "cell_type": "markdown",
   "source": [
    "**Finding Test Accuracy**"
   ],
   "metadata": {
    "id": "X7a90e4W-A7o"
   },
   "id": "X7a90e4W-A7o"
  },
  {
   "cell_type": "code",
   "execution_count": 40,
   "id": "1cf83440",
   "metadata": {
    "id": "1cf83440",
    "colab": {
     "base_uri": "https://localhost:8080/"
    },
    "outputId": "277e8987-b328-4459-a39a-4912df818ae8"
   },
   "outputs": [
    {
     "output_type": "stream",
     "name": "stdout",
     "text": [
      "74.7 %\n"
     ]
    }
   ],
   "source": [
    "test_accuracy2 = logisticRegresson2.score(test_outputs2,test_labels2)\n",
    "print(test_accuracy2*100,\"%\")"
   ]
  },
  {
   "cell_type": "markdown",
   "source": [
    "**Comparison and Discussion between Question C and D:**\n",
    "After using the output of fc6 layer, the accuracy are as following. Training accuracy-83.38%, Validation Accuracy-77.15%, Test Accuracy- 76.56%. After using the output of fc7 layer, the accuracy are as following. Training accuracy-80.95%, Validation Accuracy- 75.1%, Test Accuracy-74.7%. So, we can see that the test accuracy is better when we used the output of fc6 layer. Also In case of, training and validation, the accuracy was better when we used the output of fc6 layer instead of fc7 layer."
   ],
   "metadata": {
    "id": "xkPmTmfInm6G"
   },
   "id": "xkPmTmfInm6G"
  }
 ],
 "metadata": {
  "kernelspec": {
   "display_name": "Python 3 (ipykernel)",
   "language": "python",
   "name": "python3"
  },
  "language_info": {
   "codemirror_mode": {
    "name": "ipython",
    "version": 3
   },
   "file_extension": ".py",
   "mimetype": "text/x-python",
   "name": "python",
   "nbconvert_exporter": "python",
   "pygments_lexer": "ipython3",
   "version": "3.9.7"
  },
  "colab": {
   "name": "AI_Assignment4_QuestionA_B_C_D.ipynb",
   "provenance": [],
   "collapsed_sections": []
  },
  "accelerator": "GPU",
  "widgets": {
   "application/vnd.jupyter.widget-state+json": {
    "087019304e754761adb297a24e348a56": {
     "model_module": "@jupyter-widgets/controls",
     "model_name": "HBoxModel",
     "model_module_version": "1.5.0",
     "state": {
      "_dom_classes": [],
      "_model_module": "@jupyter-widgets/controls",
      "_model_module_version": "1.5.0",
      "_model_name": "HBoxModel",
      "_view_count": null,
      "_view_module": "@jupyter-widgets/controls",
      "_view_module_version": "1.5.0",
      "_view_name": "HBoxView",
      "box_style": "",
      "children": [
       "IPY_MODEL_ffd2f4df849a4571929528cc574081f0",
       "IPY_MODEL_6ed30a2d9b234ef2b21380740c7301bd",
       "IPY_MODEL_17d15214d5b24883a070b18789eac9a6"
      ],
      "layout": "IPY_MODEL_86393415fd6b4ed8813919d5c137d044"
     }
    },
    "ffd2f4df849a4571929528cc574081f0": {
     "model_module": "@jupyter-widgets/controls",
     "model_name": "HTMLModel",
     "model_module_version": "1.5.0",
     "state": {
      "_dom_classes": [],
      "_model_module": "@jupyter-widgets/controls",
      "_model_module_version": "1.5.0",
      "_model_name": "HTMLModel",
      "_view_count": null,
      "_view_module": "@jupyter-widgets/controls",
      "_view_module_version": "1.5.0",
      "_view_name": "HTMLView",
      "description": "",
      "description_tooltip": null,
      "layout": "IPY_MODEL_8e1d1c1ff44f405a829c2cc315ef8c9d",
      "placeholder": "​",
      "style": "IPY_MODEL_eb7555497d2f4dd08e0a2ca5e2cbf648",
      "value": "100%"
     }
    },
    "6ed30a2d9b234ef2b21380740c7301bd": {
     "model_module": "@jupyter-widgets/controls",
     "model_name": "FloatProgressModel",
     "model_module_version": "1.5.0",
     "state": {
      "_dom_classes": [],
      "_model_module": "@jupyter-widgets/controls",
      "_model_module_version": "1.5.0",
      "_model_name": "FloatProgressModel",
      "_view_count": null,
      "_view_module": "@jupyter-widgets/controls",
      "_view_module_version": "1.5.0",
      "_view_name": "ProgressView",
      "bar_style": "success",
      "description": "",
      "description_tooltip": null,
      "layout": "IPY_MODEL_cfc76d436521462bb0e19852f798a50f",
      "max": 80,
      "min": 0,
      "orientation": "horizontal",
      "style": "IPY_MODEL_a073a9ac41f44478ab3e9e299e00982c",
      "value": 80
     }
    },
    "17d15214d5b24883a070b18789eac9a6": {
     "model_module": "@jupyter-widgets/controls",
     "model_name": "HTMLModel",
     "model_module_version": "1.5.0",
     "state": {
      "_dom_classes": [],
      "_model_module": "@jupyter-widgets/controls",
      "_model_module_version": "1.5.0",
      "_model_name": "HTMLModel",
      "_view_count": null,
      "_view_module": "@jupyter-widgets/controls",
      "_view_module_version": "1.5.0",
      "_view_name": "HTMLView",
      "description": "",
      "description_tooltip": null,
      "layout": "IPY_MODEL_bc673466b52943fe8b35047b6e9f988f",
      "placeholder": "​",
      "style": "IPY_MODEL_07cd70747b3c4ac18e3faa75f6099b9e",
      "value": " 80/80 [04:46&lt;00:00,  1.02it/s]"
     }
    },
    "86393415fd6b4ed8813919d5c137d044": {
     "model_module": "@jupyter-widgets/base",
     "model_name": "LayoutModel",
     "model_module_version": "1.2.0",
     "state": {
      "_model_module": "@jupyter-widgets/base",
      "_model_module_version": "1.2.0",
      "_model_name": "LayoutModel",
      "_view_count": null,
      "_view_module": "@jupyter-widgets/base",
      "_view_module_version": "1.2.0",
      "_view_name": "LayoutView",
      "align_content": null,
      "align_items": null,
      "align_self": null,
      "border": null,
      "bottom": null,
      "display": null,
      "flex": null,
      "flex_flow": null,
      "grid_area": null,
      "grid_auto_columns": null,
      "grid_auto_flow": null,
      "grid_auto_rows": null,
      "grid_column": null,
      "grid_gap": null,
      "grid_row": null,
      "grid_template_areas": null,
      "grid_template_columns": null,
      "grid_template_rows": null,
      "height": null,
      "justify_content": null,
      "justify_items": null,
      "left": null,
      "margin": null,
      "max_height": null,
      "max_width": null,
      "min_height": null,
      "min_width": null,
      "object_fit": null,
      "object_position": null,
      "order": null,
      "overflow": null,
      "overflow_x": null,
      "overflow_y": null,
      "padding": null,
      "right": null,
      "top": null,
      "visibility": null,
      "width": null
     }
    },
    "8e1d1c1ff44f405a829c2cc315ef8c9d": {
     "model_module": "@jupyter-widgets/base",
     "model_name": "LayoutModel",
     "model_module_version": "1.2.0",
     "state": {
      "_model_module": "@jupyter-widgets/base",
      "_model_module_version": "1.2.0",
      "_model_name": "LayoutModel",
      "_view_count": null,
      "_view_module": "@jupyter-widgets/base",
      "_view_module_version": "1.2.0",
      "_view_name": "LayoutView",
      "align_content": null,
      "align_items": null,
      "align_self": null,
      "border": null,
      "bottom": null,
      "display": null,
      "flex": null,
      "flex_flow": null,
      "grid_area": null,
      "grid_auto_columns": null,
      "grid_auto_flow": null,
      "grid_auto_rows": null,
      "grid_column": null,
      "grid_gap": null,
      "grid_row": null,
      "grid_template_areas": null,
      "grid_template_columns": null,
      "grid_template_rows": null,
      "height": null,
      "justify_content": null,
      "justify_items": null,
      "left": null,
      "margin": null,
      "max_height": null,
      "max_width": null,
      "min_height": null,
      "min_width": null,
      "object_fit": null,
      "object_position": null,
      "order": null,
      "overflow": null,
      "overflow_x": null,
      "overflow_y": null,
      "padding": null,
      "right": null,
      "top": null,
      "visibility": null,
      "width": null
     }
    },
    "eb7555497d2f4dd08e0a2ca5e2cbf648": {
     "model_module": "@jupyter-widgets/controls",
     "model_name": "DescriptionStyleModel",
     "model_module_version": "1.5.0",
     "state": {
      "_model_module": "@jupyter-widgets/controls",
      "_model_module_version": "1.5.0",
      "_model_name": "DescriptionStyleModel",
      "_view_count": null,
      "_view_module": "@jupyter-widgets/base",
      "_view_module_version": "1.2.0",
      "_view_name": "StyleView",
      "description_width": ""
     }
    },
    "cfc76d436521462bb0e19852f798a50f": {
     "model_module": "@jupyter-widgets/base",
     "model_name": "LayoutModel",
     "model_module_version": "1.2.0",
     "state": {
      "_model_module": "@jupyter-widgets/base",
      "_model_module_version": "1.2.0",
      "_model_name": "LayoutModel",
      "_view_count": null,
      "_view_module": "@jupyter-widgets/base",
      "_view_module_version": "1.2.0",
      "_view_name": "LayoutView",
      "align_content": null,
      "align_items": null,
      "align_self": null,
      "border": null,
      "bottom": null,
      "display": null,
      "flex": null,
      "flex_flow": null,
      "grid_area": null,
      "grid_auto_columns": null,
      "grid_auto_flow": null,
      "grid_auto_rows": null,
      "grid_column": null,
      "grid_gap": null,
      "grid_row": null,
      "grid_template_areas": null,
      "grid_template_columns": null,
      "grid_template_rows": null,
      "height": null,
      "justify_content": null,
      "justify_items": null,
      "left": null,
      "margin": null,
      "max_height": null,
      "max_width": null,
      "min_height": null,
      "min_width": null,
      "object_fit": null,
      "object_position": null,
      "order": null,
      "overflow": null,
      "overflow_x": null,
      "overflow_y": null,
      "padding": null,
      "right": null,
      "top": null,
      "visibility": null,
      "width": null
     }
    },
    "a073a9ac41f44478ab3e9e299e00982c": {
     "model_module": "@jupyter-widgets/controls",
     "model_name": "ProgressStyleModel",
     "model_module_version": "1.5.0",
     "state": {
      "_model_module": "@jupyter-widgets/controls",
      "_model_module_version": "1.5.0",
      "_model_name": "ProgressStyleModel",
      "_view_count": null,
      "_view_module": "@jupyter-widgets/base",
      "_view_module_version": "1.2.0",
      "_view_name": "StyleView",
      "bar_color": null,
      "description_width": ""
     }
    },
    "bc673466b52943fe8b35047b6e9f988f": {
     "model_module": "@jupyter-widgets/base",
     "model_name": "LayoutModel",
     "model_module_version": "1.2.0",
     "state": {
      "_model_module": "@jupyter-widgets/base",
      "_model_module_version": "1.2.0",
      "_model_name": "LayoutModel",
      "_view_count": null,
      "_view_module": "@jupyter-widgets/base",
      "_view_module_version": "1.2.0",
      "_view_name": "LayoutView",
      "align_content": null,
      "align_items": null,
      "align_self": null,
      "border": null,
      "bottom": null,
      "display": null,
      "flex": null,
      "flex_flow": null,
      "grid_area": null,
      "grid_auto_columns": null,
      "grid_auto_flow": null,
      "grid_auto_rows": null,
      "grid_column": null,
      "grid_gap": null,
      "grid_row": null,
      "grid_template_areas": null,
      "grid_template_columns": null,
      "grid_template_rows": null,
      "height": null,
      "justify_content": null,
      "justify_items": null,
      "left": null,
      "margin": null,
      "max_height": null,
      "max_width": null,
      "min_height": null,
      "min_width": null,
      "object_fit": null,
      "object_position": null,
      "order": null,
      "overflow": null,
      "overflow_x": null,
      "overflow_y": null,
      "padding": null,
      "right": null,
      "top": null,
      "visibility": null,
      "width": null
     }
    },
    "07cd70747b3c4ac18e3faa75f6099b9e": {
     "model_module": "@jupyter-widgets/controls",
     "model_name": "DescriptionStyleModel",
     "model_module_version": "1.5.0",
     "state": {
      "_model_module": "@jupyter-widgets/controls",
      "_model_module_version": "1.5.0",
      "_model_name": "DescriptionStyleModel",
      "_view_count": null,
      "_view_module": "@jupyter-widgets/base",
      "_view_module_version": "1.2.0",
      "_view_name": "StyleView",
      "description_width": ""
     }
    },
    "d7f479bcd51849649a6fae9ac257f90e": {
     "model_module": "@jupyter-widgets/controls",
     "model_name": "HBoxModel",
     "model_module_version": "1.5.0",
     "state": {
      "_dom_classes": [],
      "_model_module": "@jupyter-widgets/controls",
      "_model_module_version": "1.5.0",
      "_model_name": "HBoxModel",
      "_view_count": null,
      "_view_module": "@jupyter-widgets/controls",
      "_view_module_version": "1.5.0",
      "_view_name": "HBoxView",
      "box_style": "",
      "children": [
       "IPY_MODEL_99dea373e6e84153aed1e7f595a9a0f1",
       "IPY_MODEL_5d6cbd68303f4ce791dfc5ec83469380",
       "IPY_MODEL_92fe649d6f594dbebe945ff23a29a567"
      ],
      "layout": "IPY_MODEL_91dd17f930214bc889f90068de212614"
     }
    },
    "99dea373e6e84153aed1e7f595a9a0f1": {
     "model_module": "@jupyter-widgets/controls",
     "model_name": "HTMLModel",
     "model_module_version": "1.5.0",
     "state": {
      "_dom_classes": [],
      "_model_module": "@jupyter-widgets/controls",
      "_model_module_version": "1.5.0",
      "_model_name": "HTMLModel",
      "_view_count": null,
      "_view_module": "@jupyter-widgets/controls",
      "_view_module_version": "1.5.0",
      "_view_name": "HTMLView",
      "description": "",
      "description_tooltip": null,
      "layout": "IPY_MODEL_72fe1b865f234668b4992b5018c43cd6",
      "placeholder": "​",
      "style": "IPY_MODEL_0b5f16c491864c1394e8074c531c0523",
      "value": "100%"
     }
    },
    "5d6cbd68303f4ce791dfc5ec83469380": {
     "model_module": "@jupyter-widgets/controls",
     "model_name": "FloatProgressModel",
     "model_module_version": "1.5.0",
     "state": {
      "_dom_classes": [],
      "_model_module": "@jupyter-widgets/controls",
      "_model_module_version": "1.5.0",
      "_model_name": "FloatProgressModel",
      "_view_count": null,
      "_view_module": "@jupyter-widgets/controls",
      "_view_module_version": "1.5.0",
      "_view_name": "ProgressView",
      "bar_style": "success",
      "description": "",
      "description_tooltip": null,
      "layout": "IPY_MODEL_4df9128595224840a8739e5b9958c442",
      "max": 20,
      "min": 0,
      "orientation": "horizontal",
      "style": "IPY_MODEL_89b172305dc34615b92c4b4ad6899692",
      "value": 20
     }
    },
    "92fe649d6f594dbebe945ff23a29a567": {
     "model_module": "@jupyter-widgets/controls",
     "model_name": "HTMLModel",
     "model_module_version": "1.5.0",
     "state": {
      "_dom_classes": [],
      "_model_module": "@jupyter-widgets/controls",
      "_model_module_version": "1.5.0",
      "_model_name": "HTMLModel",
      "_view_count": null,
      "_view_module": "@jupyter-widgets/controls",
      "_view_module_version": "1.5.0",
      "_view_name": "HTMLView",
      "description": "",
      "description_tooltip": null,
      "layout": "IPY_MODEL_7caf106461a642d2b37756fce26f637e",
      "placeholder": "​",
      "style": "IPY_MODEL_6185ef12323443b6b7c4f056333100ac",
      "value": " 20/20 [03:29&lt;00:00,  1.11it/s]"
     }
    },
    "91dd17f930214bc889f90068de212614": {
     "model_module": "@jupyter-widgets/base",
     "model_name": "LayoutModel",
     "model_module_version": "1.2.0",
     "state": {
      "_model_module": "@jupyter-widgets/base",
      "_model_module_version": "1.2.0",
      "_model_name": "LayoutModel",
      "_view_count": null,
      "_view_module": "@jupyter-widgets/base",
      "_view_module_version": "1.2.0",
      "_view_name": "LayoutView",
      "align_content": null,
      "align_items": null,
      "align_self": null,
      "border": null,
      "bottom": null,
      "display": null,
      "flex": null,
      "flex_flow": null,
      "grid_area": null,
      "grid_auto_columns": null,
      "grid_auto_flow": null,
      "grid_auto_rows": null,
      "grid_column": null,
      "grid_gap": null,
      "grid_row": null,
      "grid_template_areas": null,
      "grid_template_columns": null,
      "grid_template_rows": null,
      "height": null,
      "justify_content": null,
      "justify_items": null,
      "left": null,
      "margin": null,
      "max_height": null,
      "max_width": null,
      "min_height": null,
      "min_width": null,
      "object_fit": null,
      "object_position": null,
      "order": null,
      "overflow": null,
      "overflow_x": null,
      "overflow_y": null,
      "padding": null,
      "right": null,
      "top": null,
      "visibility": null,
      "width": null
     }
    },
    "72fe1b865f234668b4992b5018c43cd6": {
     "model_module": "@jupyter-widgets/base",
     "model_name": "LayoutModel",
     "model_module_version": "1.2.0",
     "state": {
      "_model_module": "@jupyter-widgets/base",
      "_model_module_version": "1.2.0",
      "_model_name": "LayoutModel",
      "_view_count": null,
      "_view_module": "@jupyter-widgets/base",
      "_view_module_version": "1.2.0",
      "_view_name": "LayoutView",
      "align_content": null,
      "align_items": null,
      "align_self": null,
      "border": null,
      "bottom": null,
      "display": null,
      "flex": null,
      "flex_flow": null,
      "grid_area": null,
      "grid_auto_columns": null,
      "grid_auto_flow": null,
      "grid_auto_rows": null,
      "grid_column": null,
      "grid_gap": null,
      "grid_row": null,
      "grid_template_areas": null,
      "grid_template_columns": null,
      "grid_template_rows": null,
      "height": null,
      "justify_content": null,
      "justify_items": null,
      "left": null,
      "margin": null,
      "max_height": null,
      "max_width": null,
      "min_height": null,
      "min_width": null,
      "object_fit": null,
      "object_position": null,
      "order": null,
      "overflow": null,
      "overflow_x": null,
      "overflow_y": null,
      "padding": null,
      "right": null,
      "top": null,
      "visibility": null,
      "width": null
     }
    },
    "0b5f16c491864c1394e8074c531c0523": {
     "model_module": "@jupyter-widgets/controls",
     "model_name": "DescriptionStyleModel",
     "model_module_version": "1.5.0",
     "state": {
      "_model_module": "@jupyter-widgets/controls",
      "_model_module_version": "1.5.0",
      "_model_name": "DescriptionStyleModel",
      "_view_count": null,
      "_view_module": "@jupyter-widgets/base",
      "_view_module_version": "1.2.0",
      "_view_name": "StyleView",
      "description_width": ""
     }
    },
    "4df9128595224840a8739e5b9958c442": {
     "model_module": "@jupyter-widgets/base",
     "model_name": "LayoutModel",
     "model_module_version": "1.2.0",
     "state": {
      "_model_module": "@jupyter-widgets/base",
      "_model_module_version": "1.2.0",
      "_model_name": "LayoutModel",
      "_view_count": null,
      "_view_module": "@jupyter-widgets/base",
      "_view_module_version": "1.2.0",
      "_view_name": "LayoutView",
      "align_content": null,
      "align_items": null,
      "align_self": null,
      "border": null,
      "bottom": null,
      "display": null,
      "flex": null,
      "flex_flow": null,
      "grid_area": null,
      "grid_auto_columns": null,
      "grid_auto_flow": null,
      "grid_auto_rows": null,
      "grid_column": null,
      "grid_gap": null,
      "grid_row": null,
      "grid_template_areas": null,
      "grid_template_columns": null,
      "grid_template_rows": null,
      "height": null,
      "justify_content": null,
      "justify_items": null,
      "left": null,
      "margin": null,
      "max_height": null,
      "max_width": null,
      "min_height": null,
      "min_width": null,
      "object_fit": null,
      "object_position": null,
      "order": null,
      "overflow": null,
      "overflow_x": null,
      "overflow_y": null,
      "padding": null,
      "right": null,
      "top": null,
      "visibility": null,
      "width": null
     }
    },
    "89b172305dc34615b92c4b4ad6899692": {
     "model_module": "@jupyter-widgets/controls",
     "model_name": "ProgressStyleModel",
     "model_module_version": "1.5.0",
     "state": {
      "_model_module": "@jupyter-widgets/controls",
      "_model_module_version": "1.5.0",
      "_model_name": "ProgressStyleModel",
      "_view_count": null,
      "_view_module": "@jupyter-widgets/base",
      "_view_module_version": "1.2.0",
      "_view_name": "StyleView",
      "bar_color": null,
      "description_width": ""
     }
    },
    "7caf106461a642d2b37756fce26f637e": {
     "model_module": "@jupyter-widgets/base",
     "model_name": "LayoutModel",
     "model_module_version": "1.2.0",
     "state": {
      "_model_module": "@jupyter-widgets/base",
      "_model_module_version": "1.2.0",
      "_model_name": "LayoutModel",
      "_view_count": null,
      "_view_module": "@jupyter-widgets/base",
      "_view_module_version": "1.2.0",
      "_view_name": "LayoutView",
      "align_content": null,
      "align_items": null,
      "align_self": null,
      "border": null,
      "bottom": null,
      "display": null,
      "flex": null,
      "flex_flow": null,
      "grid_area": null,
      "grid_auto_columns": null,
      "grid_auto_flow": null,
      "grid_auto_rows": null,
      "grid_column": null,
      "grid_gap": null,
      "grid_row": null,
      "grid_template_areas": null,
      "grid_template_columns": null,
      "grid_template_rows": null,
      "height": null,
      "justify_content": null,
      "justify_items": null,
      "left": null,
      "margin": null,
      "max_height": null,
      "max_width": null,
      "min_height": null,
      "min_width": null,
      "object_fit": null,
      "object_position": null,
      "order": null,
      "overflow": null,
      "overflow_x": null,
      "overflow_y": null,
      "padding": null,
      "right": null,
      "top": null,
      "visibility": null,
      "width": null
     }
    },
    "6185ef12323443b6b7c4f056333100ac": {
     "model_module": "@jupyter-widgets/controls",
     "model_name": "DescriptionStyleModel",
     "model_module_version": "1.5.0",
     "state": {
      "_model_module": "@jupyter-widgets/controls",
      "_model_module_version": "1.5.0",
      "_model_name": "DescriptionStyleModel",
      "_view_count": null,
      "_view_module": "@jupyter-widgets/base",
      "_view_module_version": "1.2.0",
      "_view_name": "StyleView",
      "description_width": ""
     }
    },
    "afb0ebe8bc9e4d60b28dabf0cd00838e": {
     "model_module": "@jupyter-widgets/controls",
     "model_name": "HBoxModel",
     "model_module_version": "1.5.0",
     "state": {
      "_dom_classes": [],
      "_model_module": "@jupyter-widgets/controls",
      "_model_module_version": "1.5.0",
      "_model_name": "HBoxModel",
      "_view_count": null,
      "_view_module": "@jupyter-widgets/controls",
      "_view_module_version": "1.5.0",
      "_view_name": "HBoxView",
      "box_style": "",
      "children": [
       "IPY_MODEL_41208eef3b184aa394ec15ac277bad47",
       "IPY_MODEL_46223792dfaf4a67aacc1d009d2ae541",
       "IPY_MODEL_d6055c9c5322484c902d544250afa87d"
      ],
      "layout": "IPY_MODEL_bb4a51328efd4902b83552d2524407a0"
     }
    },
    "41208eef3b184aa394ec15ac277bad47": {
     "model_module": "@jupyter-widgets/controls",
     "model_name": "HTMLModel",
     "model_module_version": "1.5.0",
     "state": {
      "_dom_classes": [],
      "_model_module": "@jupyter-widgets/controls",
      "_model_module_version": "1.5.0",
      "_model_name": "HTMLModel",
      "_view_count": null,
      "_view_module": "@jupyter-widgets/controls",
      "_view_module_version": "1.5.0",
      "_view_name": "HTMLView",
      "description": "",
      "description_tooltip": null,
      "layout": "IPY_MODEL_bc02f39b956f4346895c4c4bf15ded53",
      "placeholder": "​",
      "style": "IPY_MODEL_057455a8ce6d4d3f833cc05bbe169f33",
      "value": "100%"
     }
    },
    "46223792dfaf4a67aacc1d009d2ae541": {
     "model_module": "@jupyter-widgets/controls",
     "model_name": "FloatProgressModel",
     "model_module_version": "1.5.0",
     "state": {
      "_dom_classes": [],
      "_model_module": "@jupyter-widgets/controls",
      "_model_module_version": "1.5.0",
      "_model_name": "FloatProgressModel",
      "_view_count": null,
      "_view_module": "@jupyter-widgets/controls",
      "_view_module_version": "1.5.0",
      "_view_name": "ProgressView",
      "bar_style": "success",
      "description": "",
      "description_tooltip": null,
      "layout": "IPY_MODEL_c4b39603d6ff447384e4081d2906a96c",
      "max": 20,
      "min": 0,
      "orientation": "horizontal",
      "style": "IPY_MODEL_230b0ec9fd3943e6a1667703d246492e",
      "value": 20
     }
    },
    "d6055c9c5322484c902d544250afa87d": {
     "model_module": "@jupyter-widgets/controls",
     "model_name": "HTMLModel",
     "model_module_version": "1.5.0",
     "state": {
      "_dom_classes": [],
      "_model_module": "@jupyter-widgets/controls",
      "_model_module_version": "1.5.0",
      "_model_name": "HTMLModel",
      "_view_count": null,
      "_view_module": "@jupyter-widgets/controls",
      "_view_module_version": "1.5.0",
      "_view_name": "HTMLView",
      "description": "",
      "description_tooltip": null,
      "layout": "IPY_MODEL_48b1e6317d564a5ca0eae35574fdedc8",
      "placeholder": "​",
      "style": "IPY_MODEL_bb67c9c1e9c84aee8432981c2fe98563",
      "value": " 20/20 [03:12&lt;00:00,  1.21it/s]"
     }
    },
    "bb4a51328efd4902b83552d2524407a0": {
     "model_module": "@jupyter-widgets/base",
     "model_name": "LayoutModel",
     "model_module_version": "1.2.0",
     "state": {
      "_model_module": "@jupyter-widgets/base",
      "_model_module_version": "1.2.0",
      "_model_name": "LayoutModel",
      "_view_count": null,
      "_view_module": "@jupyter-widgets/base",
      "_view_module_version": "1.2.0",
      "_view_name": "LayoutView",
      "align_content": null,
      "align_items": null,
      "align_self": null,
      "border": null,
      "bottom": null,
      "display": null,
      "flex": null,
      "flex_flow": null,
      "grid_area": null,
      "grid_auto_columns": null,
      "grid_auto_flow": null,
      "grid_auto_rows": null,
      "grid_column": null,
      "grid_gap": null,
      "grid_row": null,
      "grid_template_areas": null,
      "grid_template_columns": null,
      "grid_template_rows": null,
      "height": null,
      "justify_content": null,
      "justify_items": null,
      "left": null,
      "margin": null,
      "max_height": null,
      "max_width": null,
      "min_height": null,
      "min_width": null,
      "object_fit": null,
      "object_position": null,
      "order": null,
      "overflow": null,
      "overflow_x": null,
      "overflow_y": null,
      "padding": null,
      "right": null,
      "top": null,
      "visibility": null,
      "width": null
     }
    },
    "bc02f39b956f4346895c4c4bf15ded53": {
     "model_module": "@jupyter-widgets/base",
     "model_name": "LayoutModel",
     "model_module_version": "1.2.0",
     "state": {
      "_model_module": "@jupyter-widgets/base",
      "_model_module_version": "1.2.0",
      "_model_name": "LayoutModel",
      "_view_count": null,
      "_view_module": "@jupyter-widgets/base",
      "_view_module_version": "1.2.0",
      "_view_name": "LayoutView",
      "align_content": null,
      "align_items": null,
      "align_self": null,
      "border": null,
      "bottom": null,
      "display": null,
      "flex": null,
      "flex_flow": null,
      "grid_area": null,
      "grid_auto_columns": null,
      "grid_auto_flow": null,
      "grid_auto_rows": null,
      "grid_column": null,
      "grid_gap": null,
      "grid_row": null,
      "grid_template_areas": null,
      "grid_template_columns": null,
      "grid_template_rows": null,
      "height": null,
      "justify_content": null,
      "justify_items": null,
      "left": null,
      "margin": null,
      "max_height": null,
      "max_width": null,
      "min_height": null,
      "min_width": null,
      "object_fit": null,
      "object_position": null,
      "order": null,
      "overflow": null,
      "overflow_x": null,
      "overflow_y": null,
      "padding": null,
      "right": null,
      "top": null,
      "visibility": null,
      "width": null
     }
    },
    "057455a8ce6d4d3f833cc05bbe169f33": {
     "model_module": "@jupyter-widgets/controls",
     "model_name": "DescriptionStyleModel",
     "model_module_version": "1.5.0",
     "state": {
      "_model_module": "@jupyter-widgets/controls",
      "_model_module_version": "1.5.0",
      "_model_name": "DescriptionStyleModel",
      "_view_count": null,
      "_view_module": "@jupyter-widgets/base",
      "_view_module_version": "1.2.0",
      "_view_name": "StyleView",
      "description_width": ""
     }
    },
    "c4b39603d6ff447384e4081d2906a96c": {
     "model_module": "@jupyter-widgets/base",
     "model_name": "LayoutModel",
     "model_module_version": "1.2.0",
     "state": {
      "_model_module": "@jupyter-widgets/base",
      "_model_module_version": "1.2.0",
      "_model_name": "LayoutModel",
      "_view_count": null,
      "_view_module": "@jupyter-widgets/base",
      "_view_module_version": "1.2.0",
      "_view_name": "LayoutView",
      "align_content": null,
      "align_items": null,
      "align_self": null,
      "border": null,
      "bottom": null,
      "display": null,
      "flex": null,
      "flex_flow": null,
      "grid_area": null,
      "grid_auto_columns": null,
      "grid_auto_flow": null,
      "grid_auto_rows": null,
      "grid_column": null,
      "grid_gap": null,
      "grid_row": null,
      "grid_template_areas": null,
      "grid_template_columns": null,
      "grid_template_rows": null,
      "height": null,
      "justify_content": null,
      "justify_items": null,
      "left": null,
      "margin": null,
      "max_height": null,
      "max_width": null,
      "min_height": null,
      "min_width": null,
      "object_fit": null,
      "object_position": null,
      "order": null,
      "overflow": null,
      "overflow_x": null,
      "overflow_y": null,
      "padding": null,
      "right": null,
      "top": null,
      "visibility": null,
      "width": null
     }
    },
    "230b0ec9fd3943e6a1667703d246492e": {
     "model_module": "@jupyter-widgets/controls",
     "model_name": "ProgressStyleModel",
     "model_module_version": "1.5.0",
     "state": {
      "_model_module": "@jupyter-widgets/controls",
      "_model_module_version": "1.5.0",
      "_model_name": "ProgressStyleModel",
      "_view_count": null,
      "_view_module": "@jupyter-widgets/base",
      "_view_module_version": "1.2.0",
      "_view_name": "StyleView",
      "bar_color": null,
      "description_width": ""
     }
    },
    "48b1e6317d564a5ca0eae35574fdedc8": {
     "model_module": "@jupyter-widgets/base",
     "model_name": "LayoutModel",
     "model_module_version": "1.2.0",
     "state": {
      "_model_module": "@jupyter-widgets/base",
      "_model_module_version": "1.2.0",
      "_model_name": "LayoutModel",
      "_view_count": null,
      "_view_module": "@jupyter-widgets/base",
      "_view_module_version": "1.2.0",
      "_view_name": "LayoutView",
      "align_content": null,
      "align_items": null,
      "align_self": null,
      "border": null,
      "bottom": null,
      "display": null,
      "flex": null,
      "flex_flow": null,
      "grid_area": null,
      "grid_auto_columns": null,
      "grid_auto_flow": null,
      "grid_auto_rows": null,
      "grid_column": null,
      "grid_gap": null,
      "grid_row": null,
      "grid_template_areas": null,
      "grid_template_columns": null,
      "grid_template_rows": null,
      "height": null,
      "justify_content": null,
      "justify_items": null,
      "left": null,
      "margin": null,
      "max_height": null,
      "max_width": null,
      "min_height": null,
      "min_width": null,
      "object_fit": null,
      "object_position": null,
      "order": null,
      "overflow": null,
      "overflow_x": null,
      "overflow_y": null,
      "padding": null,
      "right": null,
      "top": null,
      "visibility": null,
      "width": null
     }
    },
    "bb67c9c1e9c84aee8432981c2fe98563": {
     "model_module": "@jupyter-widgets/controls",
     "model_name": "DescriptionStyleModel",
     "model_module_version": "1.5.0",
     "state": {
      "_model_module": "@jupyter-widgets/controls",
      "_model_module_version": "1.5.0",
      "_model_name": "DescriptionStyleModel",
      "_view_count": null,
      "_view_module": "@jupyter-widgets/base",
      "_view_module_version": "1.2.0",
      "_view_name": "StyleView",
      "description_width": ""
     }
    },
    "784b72fe553d4a1f9ac11ffb0a60af21": {
     "model_module": "@jupyter-widgets/controls",
     "model_name": "HBoxModel",
     "model_module_version": "1.5.0",
     "state": {
      "_dom_classes": [],
      "_model_module": "@jupyter-widgets/controls",
      "_model_module_version": "1.5.0",
      "_model_name": "HBoxModel",
      "_view_count": null,
      "_view_module": "@jupyter-widgets/controls",
      "_view_module_version": "1.5.0",
      "_view_name": "HBoxView",
      "box_style": "",
      "children": [
       "IPY_MODEL_15450a7f7157482a8cb5e54f97708087",
       "IPY_MODEL_26b5dd3b46df4ee5bcd4d781868ca14e",
       "IPY_MODEL_67455892cbe14b6289148317401ea533"
      ],
      "layout": "IPY_MODEL_1edf4de17d3c460c9ddc71c3820155a9"
     }
    },
    "15450a7f7157482a8cb5e54f97708087": {
     "model_module": "@jupyter-widgets/controls",
     "model_name": "HTMLModel",
     "model_module_version": "1.5.0",
     "state": {
      "_dom_classes": [],
      "_model_module": "@jupyter-widgets/controls",
      "_model_module_version": "1.5.0",
      "_model_name": "HTMLModel",
      "_view_count": null,
      "_view_module": "@jupyter-widgets/controls",
      "_view_module_version": "1.5.0",
      "_view_name": "HTMLView",
      "description": "",
      "description_tooltip": null,
      "layout": "IPY_MODEL_b59eaadc7aec49d8b316e7e436585a51",
      "placeholder": "​",
      "style": "IPY_MODEL_1277e965a3764c698b906d4fceade557",
      "value": "100%"
     }
    },
    "26b5dd3b46df4ee5bcd4d781868ca14e": {
     "model_module": "@jupyter-widgets/controls",
     "model_name": "FloatProgressModel",
     "model_module_version": "1.5.0",
     "state": {
      "_dom_classes": [],
      "_model_module": "@jupyter-widgets/controls",
      "_model_module_version": "1.5.0",
      "_model_name": "FloatProgressModel",
      "_view_count": null,
      "_view_module": "@jupyter-widgets/controls",
      "_view_module_version": "1.5.0",
      "_view_name": "ProgressView",
      "bar_style": "success",
      "description": "",
      "description_tooltip": null,
      "layout": "IPY_MODEL_d525b158aa2243f797f89cbfb2fe42b2",
      "max": 80,
      "min": 0,
      "orientation": "horizontal",
      "style": "IPY_MODEL_0f9905c13c2e4e6e9e1aa88e7c3c7c44",
      "value": 80
     }
    },
    "67455892cbe14b6289148317401ea533": {
     "model_module": "@jupyter-widgets/controls",
     "model_name": "HTMLModel",
     "model_module_version": "1.5.0",
     "state": {
      "_dom_classes": [],
      "_model_module": "@jupyter-widgets/controls",
      "_model_module_version": "1.5.0",
      "_model_name": "HTMLModel",
      "_view_count": null,
      "_view_module": "@jupyter-widgets/controls",
      "_view_module_version": "1.5.0",
      "_view_name": "HTMLView",
      "description": "",
      "description_tooltip": null,
      "layout": "IPY_MODEL_742faa3a91ec42089d00d553ac2c772e",
      "placeholder": "​",
      "style": "IPY_MODEL_0d06d364561e4832bcbaa51729bf53b1",
      "value": " 80/80 [01:16&lt;00:00,  1.10it/s]"
     }
    },
    "1edf4de17d3c460c9ddc71c3820155a9": {
     "model_module": "@jupyter-widgets/base",
     "model_name": "LayoutModel",
     "model_module_version": "1.2.0",
     "state": {
      "_model_module": "@jupyter-widgets/base",
      "_model_module_version": "1.2.0",
      "_model_name": "LayoutModel",
      "_view_count": null,
      "_view_module": "@jupyter-widgets/base",
      "_view_module_version": "1.2.0",
      "_view_name": "LayoutView",
      "align_content": null,
      "align_items": null,
      "align_self": null,
      "border": null,
      "bottom": null,
      "display": null,
      "flex": null,
      "flex_flow": null,
      "grid_area": null,
      "grid_auto_columns": null,
      "grid_auto_flow": null,
      "grid_auto_rows": null,
      "grid_column": null,
      "grid_gap": null,
      "grid_row": null,
      "grid_template_areas": null,
      "grid_template_columns": null,
      "grid_template_rows": null,
      "height": null,
      "justify_content": null,
      "justify_items": null,
      "left": null,
      "margin": null,
      "max_height": null,
      "max_width": null,
      "min_height": null,
      "min_width": null,
      "object_fit": null,
      "object_position": null,
      "order": null,
      "overflow": null,
      "overflow_x": null,
      "overflow_y": null,
      "padding": null,
      "right": null,
      "top": null,
      "visibility": null,
      "width": null
     }
    },
    "b59eaadc7aec49d8b316e7e436585a51": {
     "model_module": "@jupyter-widgets/base",
     "model_name": "LayoutModel",
     "model_module_version": "1.2.0",
     "state": {
      "_model_module": "@jupyter-widgets/base",
      "_model_module_version": "1.2.0",
      "_model_name": "LayoutModel",
      "_view_count": null,
      "_view_module": "@jupyter-widgets/base",
      "_view_module_version": "1.2.0",
      "_view_name": "LayoutView",
      "align_content": null,
      "align_items": null,
      "align_self": null,
      "border": null,
      "bottom": null,
      "display": null,
      "flex": null,
      "flex_flow": null,
      "grid_area": null,
      "grid_auto_columns": null,
      "grid_auto_flow": null,
      "grid_auto_rows": null,
      "grid_column": null,
      "grid_gap": null,
      "grid_row": null,
      "grid_template_areas": null,
      "grid_template_columns": null,
      "grid_template_rows": null,
      "height": null,
      "justify_content": null,
      "justify_items": null,
      "left": null,
      "margin": null,
      "max_height": null,
      "max_width": null,
      "min_height": null,
      "min_width": null,
      "object_fit": null,
      "object_position": null,
      "order": null,
      "overflow": null,
      "overflow_x": null,
      "overflow_y": null,
      "padding": null,
      "right": null,
      "top": null,
      "visibility": null,
      "width": null
     }
    },
    "1277e965a3764c698b906d4fceade557": {
     "model_module": "@jupyter-widgets/controls",
     "model_name": "DescriptionStyleModel",
     "model_module_version": "1.5.0",
     "state": {
      "_model_module": "@jupyter-widgets/controls",
      "_model_module_version": "1.5.0",
      "_model_name": "DescriptionStyleModel",
      "_view_count": null,
      "_view_module": "@jupyter-widgets/base",
      "_view_module_version": "1.2.0",
      "_view_name": "StyleView",
      "description_width": ""
     }
    },
    "d525b158aa2243f797f89cbfb2fe42b2": {
     "model_module": "@jupyter-widgets/base",
     "model_name": "LayoutModel",
     "model_module_version": "1.2.0",
     "state": {
      "_model_module": "@jupyter-widgets/base",
      "_model_module_version": "1.2.0",
      "_model_name": "LayoutModel",
      "_view_count": null,
      "_view_module": "@jupyter-widgets/base",
      "_view_module_version": "1.2.0",
      "_view_name": "LayoutView",
      "align_content": null,
      "align_items": null,
      "align_self": null,
      "border": null,
      "bottom": null,
      "display": null,
      "flex": null,
      "flex_flow": null,
      "grid_area": null,
      "grid_auto_columns": null,
      "grid_auto_flow": null,
      "grid_auto_rows": null,
      "grid_column": null,
      "grid_gap": null,
      "grid_row": null,
      "grid_template_areas": null,
      "grid_template_columns": null,
      "grid_template_rows": null,
      "height": null,
      "justify_content": null,
      "justify_items": null,
      "left": null,
      "margin": null,
      "max_height": null,
      "max_width": null,
      "min_height": null,
      "min_width": null,
      "object_fit": null,
      "object_position": null,
      "order": null,
      "overflow": null,
      "overflow_x": null,
      "overflow_y": null,
      "padding": null,
      "right": null,
      "top": null,
      "visibility": null,
      "width": null
     }
    },
    "0f9905c13c2e4e6e9e1aa88e7c3c7c44": {
     "model_module": "@jupyter-widgets/controls",
     "model_name": "ProgressStyleModel",
     "model_module_version": "1.5.0",
     "state": {
      "_model_module": "@jupyter-widgets/controls",
      "_model_module_version": "1.5.0",
      "_model_name": "ProgressStyleModel",
      "_view_count": null,
      "_view_module": "@jupyter-widgets/base",
      "_view_module_version": "1.2.0",
      "_view_name": "StyleView",
      "bar_color": null,
      "description_width": ""
     }
    },
    "742faa3a91ec42089d00d553ac2c772e": {
     "model_module": "@jupyter-widgets/base",
     "model_name": "LayoutModel",
     "model_module_version": "1.2.0",
     "state": {
      "_model_module": "@jupyter-widgets/base",
      "_model_module_version": "1.2.0",
      "_model_name": "LayoutModel",
      "_view_count": null,
      "_view_module": "@jupyter-widgets/base",
      "_view_module_version": "1.2.0",
      "_view_name": "LayoutView",
      "align_content": null,
      "align_items": null,
      "align_self": null,
      "border": null,
      "bottom": null,
      "display": null,
      "flex": null,
      "flex_flow": null,
      "grid_area": null,
      "grid_auto_columns": null,
      "grid_auto_flow": null,
      "grid_auto_rows": null,
      "grid_column": null,
      "grid_gap": null,
      "grid_row": null,
      "grid_template_areas": null,
      "grid_template_columns": null,
      "grid_template_rows": null,
      "height": null,
      "justify_content": null,
      "justify_items": null,
      "left": null,
      "margin": null,
      "max_height": null,
      "max_width": null,
      "min_height": null,
      "min_width": null,
      "object_fit": null,
      "object_position": null,
      "order": null,
      "overflow": null,
      "overflow_x": null,
      "overflow_y": null,
      "padding": null,
      "right": null,
      "top": null,
      "visibility": null,
      "width": null
     }
    },
    "0d06d364561e4832bcbaa51729bf53b1": {
     "model_module": "@jupyter-widgets/controls",
     "model_name": "DescriptionStyleModel",
     "model_module_version": "1.5.0",
     "state": {
      "_model_module": "@jupyter-widgets/controls",
      "_model_module_version": "1.5.0",
      "_model_name": "DescriptionStyleModel",
      "_view_count": null,
      "_view_module": "@jupyter-widgets/base",
      "_view_module_version": "1.2.0",
      "_view_name": "StyleView",
      "description_width": ""
     }
    },
    "48db31f269b3486082f5245b70105827": {
     "model_module": "@jupyter-widgets/controls",
     "model_name": "HBoxModel",
     "model_module_version": "1.5.0",
     "state": {
      "_dom_classes": [],
      "_model_module": "@jupyter-widgets/controls",
      "_model_module_version": "1.5.0",
      "_model_name": "HBoxModel",
      "_view_count": null,
      "_view_module": "@jupyter-widgets/controls",
      "_view_module_version": "1.5.0",
      "_view_name": "HBoxView",
      "box_style": "",
      "children": [
       "IPY_MODEL_4a927e8efffa401bb723d1146b1eb534",
       "IPY_MODEL_a517723ad233473f8908a3941427b01a",
       "IPY_MODEL_4ea34a8ec5ee49c09408de0100ad46eb"
      ],
      "layout": "IPY_MODEL_311433c7c622464589b75569cf0758b7"
     }
    },
    "4a927e8efffa401bb723d1146b1eb534": {
     "model_module": "@jupyter-widgets/controls",
     "model_name": "HTMLModel",
     "model_module_version": "1.5.0",
     "state": {
      "_dom_classes": [],
      "_model_module": "@jupyter-widgets/controls",
      "_model_module_version": "1.5.0",
      "_model_name": "HTMLModel",
      "_view_count": null,
      "_view_module": "@jupyter-widgets/controls",
      "_view_module_version": "1.5.0",
      "_view_name": "HTMLView",
      "description": "",
      "description_tooltip": null,
      "layout": "IPY_MODEL_5efb7a4246a845e5a019e43686149dd6",
      "placeholder": "​",
      "style": "IPY_MODEL_c2dc6da05c2f4fd5a7262c417cf0fd72",
      "value": "100%"
     }
    },
    "a517723ad233473f8908a3941427b01a": {
     "model_module": "@jupyter-widgets/controls",
     "model_name": "FloatProgressModel",
     "model_module_version": "1.5.0",
     "state": {
      "_dom_classes": [],
      "_model_module": "@jupyter-widgets/controls",
      "_model_module_version": "1.5.0",
      "_model_name": "FloatProgressModel",
      "_view_count": null,
      "_view_module": "@jupyter-widgets/controls",
      "_view_module_version": "1.5.0",
      "_view_name": "ProgressView",
      "bar_style": "",
      "description": "",
      "description_tooltip": null,
      "layout": "IPY_MODEL_e4873837f8a349c1802a8c31869d03dc",
      "max": 20,
      "min": 0,
      "orientation": "horizontal",
      "style": "IPY_MODEL_e6e650972e114de695bde47f2e995e70",
      "value": 20
     }
    },
    "4ea34a8ec5ee49c09408de0100ad46eb": {
     "model_module": "@jupyter-widgets/controls",
     "model_name": "HTMLModel",
     "model_module_version": "1.5.0",
     "state": {
      "_dom_classes": [],
      "_model_module": "@jupyter-widgets/controls",
      "_model_module_version": "1.5.0",
      "_model_name": "HTMLModel",
      "_view_count": null,
      "_view_module": "@jupyter-widgets/controls",
      "_view_module_version": "1.5.0",
      "_view_name": "HTMLView",
      "description": "",
      "description_tooltip": null,
      "layout": "IPY_MODEL_b9aa1ae6e4f94bc8ad3e6870080e9235",
      "placeholder": "​",
      "style": "IPY_MODEL_7b083596c0654cd5a98253ed396692dc",
      "value": " 20/20 [00:16&lt;00:00,  1.24it/s]"
     }
    },
    "311433c7c622464589b75569cf0758b7": {
     "model_module": "@jupyter-widgets/base",
     "model_name": "LayoutModel",
     "model_module_version": "1.2.0",
     "state": {
      "_model_module": "@jupyter-widgets/base",
      "_model_module_version": "1.2.0",
      "_model_name": "LayoutModel",
      "_view_count": null,
      "_view_module": "@jupyter-widgets/base",
      "_view_module_version": "1.2.0",
      "_view_name": "LayoutView",
      "align_content": null,
      "align_items": null,
      "align_self": null,
      "border": null,
      "bottom": null,
      "display": null,
      "flex": null,
      "flex_flow": null,
      "grid_area": null,
      "grid_auto_columns": null,
      "grid_auto_flow": null,
      "grid_auto_rows": null,
      "grid_column": null,
      "grid_gap": null,
      "grid_row": null,
      "grid_template_areas": null,
      "grid_template_columns": null,
      "grid_template_rows": null,
      "height": null,
      "justify_content": null,
      "justify_items": null,
      "left": null,
      "margin": null,
      "max_height": null,
      "max_width": null,
      "min_height": null,
      "min_width": null,
      "object_fit": null,
      "object_position": null,
      "order": null,
      "overflow": null,
      "overflow_x": null,
      "overflow_y": null,
      "padding": null,
      "right": null,
      "top": null,
      "visibility": null,
      "width": null
     }
    },
    "5efb7a4246a845e5a019e43686149dd6": {
     "model_module": "@jupyter-widgets/base",
     "model_name": "LayoutModel",
     "model_module_version": "1.2.0",
     "state": {
      "_model_module": "@jupyter-widgets/base",
      "_model_module_version": "1.2.0",
      "_model_name": "LayoutModel",
      "_view_count": null,
      "_view_module": "@jupyter-widgets/base",
      "_view_module_version": "1.2.0",
      "_view_name": "LayoutView",
      "align_content": null,
      "align_items": null,
      "align_self": null,
      "border": null,
      "bottom": null,
      "display": null,
      "flex": null,
      "flex_flow": null,
      "grid_area": null,
      "grid_auto_columns": null,
      "grid_auto_flow": null,
      "grid_auto_rows": null,
      "grid_column": null,
      "grid_gap": null,
      "grid_row": null,
      "grid_template_areas": null,
      "grid_template_columns": null,
      "grid_template_rows": null,
      "height": null,
      "justify_content": null,
      "justify_items": null,
      "left": null,
      "margin": null,
      "max_height": null,
      "max_width": null,
      "min_height": null,
      "min_width": null,
      "object_fit": null,
      "object_position": null,
      "order": null,
      "overflow": null,
      "overflow_x": null,
      "overflow_y": null,
      "padding": null,
      "right": null,
      "top": null,
      "visibility": null,
      "width": null
     }
    },
    "c2dc6da05c2f4fd5a7262c417cf0fd72": {
     "model_module": "@jupyter-widgets/controls",
     "model_name": "DescriptionStyleModel",
     "model_module_version": "1.5.0",
     "state": {
      "_model_module": "@jupyter-widgets/controls",
      "_model_module_version": "1.5.0",
      "_model_name": "DescriptionStyleModel",
      "_view_count": null,
      "_view_module": "@jupyter-widgets/base",
      "_view_module_version": "1.2.0",
      "_view_name": "StyleView",
      "description_width": ""
     }
    },
    "e4873837f8a349c1802a8c31869d03dc": {
     "model_module": "@jupyter-widgets/base",
     "model_name": "LayoutModel",
     "model_module_version": "1.2.0",
     "state": {
      "_model_module": "@jupyter-widgets/base",
      "_model_module_version": "1.2.0",
      "_model_name": "LayoutModel",
      "_view_count": null,
      "_view_module": "@jupyter-widgets/base",
      "_view_module_version": "1.2.0",
      "_view_name": "LayoutView",
      "align_content": null,
      "align_items": null,
      "align_self": null,
      "border": null,
      "bottom": null,
      "display": null,
      "flex": null,
      "flex_flow": null,
      "grid_area": null,
      "grid_auto_columns": null,
      "grid_auto_flow": null,
      "grid_auto_rows": null,
      "grid_column": null,
      "grid_gap": null,
      "grid_row": null,
      "grid_template_areas": null,
      "grid_template_columns": null,
      "grid_template_rows": null,
      "height": null,
      "justify_content": null,
      "justify_items": null,
      "left": null,
      "margin": null,
      "max_height": null,
      "max_width": null,
      "min_height": null,
      "min_width": null,
      "object_fit": null,
      "object_position": null,
      "order": null,
      "overflow": null,
      "overflow_x": null,
      "overflow_y": null,
      "padding": null,
      "right": null,
      "top": null,
      "visibility": null,
      "width": null
     }
    },
    "e6e650972e114de695bde47f2e995e70": {
     "model_module": "@jupyter-widgets/controls",
     "model_name": "ProgressStyleModel",
     "model_module_version": "1.5.0",
     "state": {
      "_model_module": "@jupyter-widgets/controls",
      "_model_module_version": "1.5.0",
      "_model_name": "ProgressStyleModel",
      "_view_count": null,
      "_view_module": "@jupyter-widgets/base",
      "_view_module_version": "1.2.0",
      "_view_name": "StyleView",
      "bar_color": null,
      "description_width": ""
     }
    },
    "b9aa1ae6e4f94bc8ad3e6870080e9235": {
     "model_module": "@jupyter-widgets/base",
     "model_name": "LayoutModel",
     "model_module_version": "1.2.0",
     "state": {
      "_model_module": "@jupyter-widgets/base",
      "_model_module_version": "1.2.0",
      "_model_name": "LayoutModel",
      "_view_count": null,
      "_view_module": "@jupyter-widgets/base",
      "_view_module_version": "1.2.0",
      "_view_name": "LayoutView",
      "align_content": null,
      "align_items": null,
      "align_self": null,
      "border": null,
      "bottom": null,
      "display": null,
      "flex": null,
      "flex_flow": null,
      "grid_area": null,
      "grid_auto_columns": null,
      "grid_auto_flow": null,
      "grid_auto_rows": null,
      "grid_column": null,
      "grid_gap": null,
      "grid_row": null,
      "grid_template_areas": null,
      "grid_template_columns": null,
      "grid_template_rows": null,
      "height": null,
      "justify_content": null,
      "justify_items": null,
      "left": null,
      "margin": null,
      "max_height": null,
      "max_width": null,
      "min_height": null,
      "min_width": null,
      "object_fit": null,
      "object_position": null,
      "order": null,
      "overflow": null,
      "overflow_x": null,
      "overflow_y": null,
      "padding": null,
      "right": null,
      "top": null,
      "visibility": null,
      "width": null
     }
    },
    "7b083596c0654cd5a98253ed396692dc": {
     "model_module": "@jupyter-widgets/controls",
     "model_name": "DescriptionStyleModel",
     "model_module_version": "1.5.0",
     "state": {
      "_model_module": "@jupyter-widgets/controls",
      "_model_module_version": "1.5.0",
      "_model_name": "DescriptionStyleModel",
      "_view_count": null,
      "_view_module": "@jupyter-widgets/base",
      "_view_module_version": "1.2.0",
      "_view_name": "StyleView",
      "description_width": ""
     }
    },
    "89e972bc5df545319397fafb8cfba7a0": {
     "model_module": "@jupyter-widgets/controls",
     "model_name": "HBoxModel",
     "model_module_version": "1.5.0",
     "state": {
      "_dom_classes": [],
      "_model_module": "@jupyter-widgets/controls",
      "_model_module_version": "1.5.0",
      "_model_name": "HBoxModel",
      "_view_count": null,
      "_view_module": "@jupyter-widgets/controls",
      "_view_module_version": "1.5.0",
      "_view_name": "HBoxView",
      "box_style": "",
      "children": [
       "IPY_MODEL_bbe4e399f06c4ae5b4115e0df5bcf921",
       "IPY_MODEL_2e88786f98254e89b305a7fe269add10",
       "IPY_MODEL_8320910c5ac941418428ab2b7921cb66"
      ],
      "layout": "IPY_MODEL_e5f59bcc6e1442d28961e8213e556caa"
     }
    },
    "bbe4e399f06c4ae5b4115e0df5bcf921": {
     "model_module": "@jupyter-widgets/controls",
     "model_name": "HTMLModel",
     "model_module_version": "1.5.0",
     "state": {
      "_dom_classes": [],
      "_model_module": "@jupyter-widgets/controls",
      "_model_module_version": "1.5.0",
      "_model_name": "HTMLModel",
      "_view_count": null,
      "_view_module": "@jupyter-widgets/controls",
      "_view_module_version": "1.5.0",
      "_view_name": "HTMLView",
      "description": "",
      "description_tooltip": null,
      "layout": "IPY_MODEL_42d0e92b15d64b7d9f2f20e6d9d8eedd",
      "placeholder": "​",
      "style": "IPY_MODEL_770eb7cc527440e18925b2694c5b5ad4",
      "value": "100%"
     }
    },
    "2e88786f98254e89b305a7fe269add10": {
     "model_module": "@jupyter-widgets/controls",
     "model_name": "FloatProgressModel",
     "model_module_version": "1.5.0",
     "state": {
      "_dom_classes": [],
      "_model_module": "@jupyter-widgets/controls",
      "_model_module_version": "1.5.0",
      "_model_name": "FloatProgressModel",
      "_view_count": null,
      "_view_module": "@jupyter-widgets/controls",
      "_view_module_version": "1.5.0",
      "_view_name": "ProgressView",
      "bar_style": "",
      "description": "",
      "description_tooltip": null,
      "layout": "IPY_MODEL_261e9349bdb7434c8d6bca1020f99902",
      "max": 20,
      "min": 0,
      "orientation": "horizontal",
      "style": "IPY_MODEL_767a80c7e82b404eb9dd169de8097cf6",
      "value": 20
     }
    },
    "8320910c5ac941418428ab2b7921cb66": {
     "model_module": "@jupyter-widgets/controls",
     "model_name": "HTMLModel",
     "model_module_version": "1.5.0",
     "state": {
      "_dom_classes": [],
      "_model_module": "@jupyter-widgets/controls",
      "_model_module_version": "1.5.0",
      "_model_name": "HTMLModel",
      "_view_count": null,
      "_view_module": "@jupyter-widgets/controls",
      "_view_module_version": "1.5.0",
      "_view_name": "HTMLView",
      "description": "",
      "description_tooltip": null,
      "layout": "IPY_MODEL_d3a444e027a747e4990630e88bea3626",
      "placeholder": "​",
      "style": "IPY_MODEL_7a63c46a97c74d2d968b752c05ce98e5",
      "value": " 20/20 [00:16&lt;00:00,  1.23it/s]"
     }
    },
    "e5f59bcc6e1442d28961e8213e556caa": {
     "model_module": "@jupyter-widgets/base",
     "model_name": "LayoutModel",
     "model_module_version": "1.2.0",
     "state": {
      "_model_module": "@jupyter-widgets/base",
      "_model_module_version": "1.2.0",
      "_model_name": "LayoutModel",
      "_view_count": null,
      "_view_module": "@jupyter-widgets/base",
      "_view_module_version": "1.2.0",
      "_view_name": "LayoutView",
      "align_content": null,
      "align_items": null,
      "align_self": null,
      "border": null,
      "bottom": null,
      "display": null,
      "flex": null,
      "flex_flow": null,
      "grid_area": null,
      "grid_auto_columns": null,
      "grid_auto_flow": null,
      "grid_auto_rows": null,
      "grid_column": null,
      "grid_gap": null,
      "grid_row": null,
      "grid_template_areas": null,
      "grid_template_columns": null,
      "grid_template_rows": null,
      "height": null,
      "justify_content": null,
      "justify_items": null,
      "left": null,
      "margin": null,
      "max_height": null,
      "max_width": null,
      "min_height": null,
      "min_width": null,
      "object_fit": null,
      "object_position": null,
      "order": null,
      "overflow": null,
      "overflow_x": null,
      "overflow_y": null,
      "padding": null,
      "right": null,
      "top": null,
      "visibility": null,
      "width": null
     }
    },
    "42d0e92b15d64b7d9f2f20e6d9d8eedd": {
     "model_module": "@jupyter-widgets/base",
     "model_name": "LayoutModel",
     "model_module_version": "1.2.0",
     "state": {
      "_model_module": "@jupyter-widgets/base",
      "_model_module_version": "1.2.0",
      "_model_name": "LayoutModel",
      "_view_count": null,
      "_view_module": "@jupyter-widgets/base",
      "_view_module_version": "1.2.0",
      "_view_name": "LayoutView",
      "align_content": null,
      "align_items": null,
      "align_self": null,
      "border": null,
      "bottom": null,
      "display": null,
      "flex": null,
      "flex_flow": null,
      "grid_area": null,
      "grid_auto_columns": null,
      "grid_auto_flow": null,
      "grid_auto_rows": null,
      "grid_column": null,
      "grid_gap": null,
      "grid_row": null,
      "grid_template_areas": null,
      "grid_template_columns": null,
      "grid_template_rows": null,
      "height": null,
      "justify_content": null,
      "justify_items": null,
      "left": null,
      "margin": null,
      "max_height": null,
      "max_width": null,
      "min_height": null,
      "min_width": null,
      "object_fit": null,
      "object_position": null,
      "order": null,
      "overflow": null,
      "overflow_x": null,
      "overflow_y": null,
      "padding": null,
      "right": null,
      "top": null,
      "visibility": null,
      "width": null
     }
    },
    "770eb7cc527440e18925b2694c5b5ad4": {
     "model_module": "@jupyter-widgets/controls",
     "model_name": "DescriptionStyleModel",
     "model_module_version": "1.5.0",
     "state": {
      "_model_module": "@jupyter-widgets/controls",
      "_model_module_version": "1.5.0",
      "_model_name": "DescriptionStyleModel",
      "_view_count": null,
      "_view_module": "@jupyter-widgets/base",
      "_view_module_version": "1.2.0",
      "_view_name": "StyleView",
      "description_width": ""
     }
    },
    "261e9349bdb7434c8d6bca1020f99902": {
     "model_module": "@jupyter-widgets/base",
     "model_name": "LayoutModel",
     "model_module_version": "1.2.0",
     "state": {
      "_model_module": "@jupyter-widgets/base",
      "_model_module_version": "1.2.0",
      "_model_name": "LayoutModel",
      "_view_count": null,
      "_view_module": "@jupyter-widgets/base",
      "_view_module_version": "1.2.0",
      "_view_name": "LayoutView",
      "align_content": null,
      "align_items": null,
      "align_self": null,
      "border": null,
      "bottom": null,
      "display": null,
      "flex": null,
      "flex_flow": null,
      "grid_area": null,
      "grid_auto_columns": null,
      "grid_auto_flow": null,
      "grid_auto_rows": null,
      "grid_column": null,
      "grid_gap": null,
      "grid_row": null,
      "grid_template_areas": null,
      "grid_template_columns": null,
      "grid_template_rows": null,
      "height": null,
      "justify_content": null,
      "justify_items": null,
      "left": null,
      "margin": null,
      "max_height": null,
      "max_width": null,
      "min_height": null,
      "min_width": null,
      "object_fit": null,
      "object_position": null,
      "order": null,
      "overflow": null,
      "overflow_x": null,
      "overflow_y": null,
      "padding": null,
      "right": null,
      "top": null,
      "visibility": null,
      "width": null
     }
    },
    "767a80c7e82b404eb9dd169de8097cf6": {
     "model_module": "@jupyter-widgets/controls",
     "model_name": "ProgressStyleModel",
     "model_module_version": "1.5.0",
     "state": {
      "_model_module": "@jupyter-widgets/controls",
      "_model_module_version": "1.5.0",
      "_model_name": "ProgressStyleModel",
      "_view_count": null,
      "_view_module": "@jupyter-widgets/base",
      "_view_module_version": "1.2.0",
      "_view_name": "StyleView",
      "bar_color": null,
      "description_width": ""
     }
    },
    "d3a444e027a747e4990630e88bea3626": {
     "model_module": "@jupyter-widgets/base",
     "model_name": "LayoutModel",
     "model_module_version": "1.2.0",
     "state": {
      "_model_module": "@jupyter-widgets/base",
      "_model_module_version": "1.2.0",
      "_model_name": "LayoutModel",
      "_view_count": null,
      "_view_module": "@jupyter-widgets/base",
      "_view_module_version": "1.2.0",
      "_view_name": "LayoutView",
      "align_content": null,
      "align_items": null,
      "align_self": null,
      "border": null,
      "bottom": null,
      "display": null,
      "flex": null,
      "flex_flow": null,
      "grid_area": null,
      "grid_auto_columns": null,
      "grid_auto_flow": null,
      "grid_auto_rows": null,
      "grid_column": null,
      "grid_gap": null,
      "grid_row": null,
      "grid_template_areas": null,
      "grid_template_columns": null,
      "grid_template_rows": null,
      "height": null,
      "justify_content": null,
      "justify_items": null,
      "left": null,
      "margin": null,
      "max_height": null,
      "max_width": null,
      "min_height": null,
      "min_width": null,
      "object_fit": null,
      "object_position": null,
      "order": null,
      "overflow": null,
      "overflow_x": null,
      "overflow_y": null,
      "padding": null,
      "right": null,
      "top": null,
      "visibility": null,
      "width": null
     }
    },
    "7a63c46a97c74d2d968b752c05ce98e5": {
     "model_module": "@jupyter-widgets/controls",
     "model_name": "DescriptionStyleModel",
     "model_module_version": "1.5.0",
     "state": {
      "_model_module": "@jupyter-widgets/controls",
      "_model_module_version": "1.5.0",
      "_model_name": "DescriptionStyleModel",
      "_view_count": null,
      "_view_module": "@jupyter-widgets/base",
      "_view_module_version": "1.2.0",
      "_view_name": "StyleView",
      "description_width": ""
     }
    }
   }
  }
 },
 "nbformat": 4,
 "nbformat_minor": 5
}